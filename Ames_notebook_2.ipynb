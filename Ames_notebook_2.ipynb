{
 "cells": [
  {
   "cell_type": "code",
   "execution_count": 49,
   "metadata": {},
   "outputs": [],
   "source": [
    "import pandas as pd\n",
    "import numpy as np\n",
    "import seaborn as sns\n",
    "import matplotlib.pyplot as plt\n",
    "\n",
    "from sklearn.linear_model import LinearRegression, ElasticNet, ElasticNetCV, Ridge, RidgeCV\n",
    "from sklearn.model_selection import train_test_split, KFold, cross_val_score\n",
    "from sklearn.preprocessing import PolynomialFeatures, StandardScaler"
   ]
  },
  {
   "cell_type": "code",
   "execution_count": 50,
   "metadata": {},
   "outputs": [
    {
     "data": {
      "text/html": [
       "<div>\n",
       "<style scoped>\n",
       "    .dataframe tbody tr th:only-of-type {\n",
       "        vertical-align: middle;\n",
       "    }\n",
       "\n",
       "    .dataframe tbody tr th {\n",
       "        vertical-align: top;\n",
       "    }\n",
       "\n",
       "    .dataframe thead th {\n",
       "        text-align: right;\n",
       "    }\n",
       "</style>\n",
       "<table border=\"1\" class=\"dataframe\">\n",
       "  <thead>\n",
       "    <tr style=\"text-align: right;\">\n",
       "      <th></th>\n",
       "      <th>PID</th>\n",
       "      <th>MS SubClass</th>\n",
       "      <th>MS Zoning</th>\n",
       "      <th>Lot Frontage</th>\n",
       "      <th>Lot Area</th>\n",
       "      <th>Street</th>\n",
       "      <th>Alley</th>\n",
       "      <th>Lot Shape</th>\n",
       "      <th>Land Contour</th>\n",
       "      <th>Utilities</th>\n",
       "      <th>...</th>\n",
       "      <th>Screen Porch</th>\n",
       "      <th>Pool Area</th>\n",
       "      <th>Pool QC</th>\n",
       "      <th>Fence</th>\n",
       "      <th>Misc Feature</th>\n",
       "      <th>Misc Val</th>\n",
       "      <th>Mo Sold</th>\n",
       "      <th>Yr Sold</th>\n",
       "      <th>Sale Type</th>\n",
       "      <th>SalePrice</th>\n",
       "    </tr>\n",
       "    <tr>\n",
       "      <th>Id</th>\n",
       "      <th></th>\n",
       "      <th></th>\n",
       "      <th></th>\n",
       "      <th></th>\n",
       "      <th></th>\n",
       "      <th></th>\n",
       "      <th></th>\n",
       "      <th></th>\n",
       "      <th></th>\n",
       "      <th></th>\n",
       "      <th></th>\n",
       "      <th></th>\n",
       "      <th></th>\n",
       "      <th></th>\n",
       "      <th></th>\n",
       "      <th></th>\n",
       "      <th></th>\n",
       "      <th></th>\n",
       "      <th></th>\n",
       "      <th></th>\n",
       "      <th></th>\n",
       "    </tr>\n",
       "  </thead>\n",
       "  <tbody>\n",
       "    <tr>\n",
       "      <th>109</th>\n",
       "      <td>533352170</td>\n",
       "      <td>60</td>\n",
       "      <td>RL</td>\n",
       "      <td>NaN</td>\n",
       "      <td>13517</td>\n",
       "      <td>Pave</td>\n",
       "      <td>NaN</td>\n",
       "      <td>IR1</td>\n",
       "      <td>Lvl</td>\n",
       "      <td>AllPub</td>\n",
       "      <td>...</td>\n",
       "      <td>0</td>\n",
       "      <td>0</td>\n",
       "      <td>NaN</td>\n",
       "      <td>NaN</td>\n",
       "      <td>NaN</td>\n",
       "      <td>0</td>\n",
       "      <td>3</td>\n",
       "      <td>2010</td>\n",
       "      <td>WD</td>\n",
       "      <td>130500</td>\n",
       "    </tr>\n",
       "  </tbody>\n",
       "</table>\n",
       "<p>1 rows × 80 columns</p>\n",
       "</div>"
      ],
      "text/plain": [
       "           PID  MS SubClass MS Zoning  Lot Frontage  Lot Area Street Alley  \\\n",
       "Id                                                                           \n",
       "109  533352170           60        RL           NaN     13517   Pave   NaN   \n",
       "\n",
       "    Lot Shape Land Contour Utilities    ...     Screen Porch Pool Area  \\\n",
       "Id                                      ...                              \n",
       "109       IR1          Lvl    AllPub    ...                0         0   \n",
       "\n",
       "    Pool QC Fence Misc Feature Misc Val Mo Sold  Yr Sold  Sale Type  SalePrice  \n",
       "Id                                                                              \n",
       "109     NaN   NaN          NaN        0       3     2010        WD      130500  \n",
       "\n",
       "[1 rows x 80 columns]"
      ]
     },
     "execution_count": 50,
     "metadata": {},
     "output_type": "execute_result"
    }
   ],
   "source": [
    "df = pd.read_csv('./train.csv', index_col=\"Id\")\n",
    "df.head(1)"
   ]
  },
  {
   "cell_type": "code",
   "execution_count": 51,
   "metadata": {},
   "outputs": [],
   "source": [
    "X = df\n",
    "y = df['SalePrice']"
   ]
  },
  {
   "cell_type": "code",
   "execution_count": 52,
   "metadata": {},
   "outputs": [
    {
     "name": "stdout",
     "output_type": "stream",
     "text": [
      "<class 'pandas.core.frame.DataFrame'>\n",
      "Int64Index: 2051 entries, 109 to 10\n",
      "Data columns (total 53 columns):\n",
      "MS SubClass       2051 non-null int64\n",
      "MS Zoning         2051 non-null object\n",
      "Lot Frontage      1721 non-null float64\n",
      "Lot Area          2051 non-null int64\n",
      "Street            2051 non-null object\n",
      "Lot Shape         2051 non-null object\n",
      "Land Contour      2051 non-null object\n",
      "Lot Config        2051 non-null object\n",
      "Land Slope        2051 non-null object\n",
      "Neighborhood      2051 non-null object\n",
      "Condition 1       2051 non-null object\n",
      "Condition 2       2051 non-null object\n",
      "Bldg Type         2051 non-null object\n",
      "House Style       2051 non-null object\n",
      "Overall Qual      2051 non-null int64\n",
      "Overall Cond      2051 non-null int64\n",
      "Year Built        2051 non-null int64\n",
      "Year Remod/Add    2051 non-null int64\n",
      "Roof Style        2051 non-null object\n",
      "Roof Matl         2051 non-null object\n",
      "Exterior 1st      2051 non-null object\n",
      "Mas Vnr Type      2029 non-null object\n",
      "Mas Vnr Area      2029 non-null float64\n",
      "Exter Qual        2051 non-null object\n",
      "Exter Cond        2051 non-null object\n",
      "Foundation        2051 non-null object\n",
      "Bsmt Qual         1996 non-null object\n",
      "Bsmt Cond         1996 non-null object\n",
      "BsmtFin Type 1    1996 non-null object\n",
      "BsmtFin SF 1      2050 non-null float64\n",
      "Total Bsmt SF     2050 non-null float64\n",
      "Heating QC        2051 non-null object\n",
      "Central Air       2051 non-null object\n",
      "1st Flr SF        2051 non-null int64\n",
      "2nd Flr SF        2051 non-null int64\n",
      "Gr Liv Area       2051 non-null int64\n",
      "Bsmt Full Bath    2049 non-null float64\n",
      "Full Bath         2051 non-null int64\n",
      "Half Bath         2051 non-null int64\n",
      "Bedroom AbvGr     2051 non-null int64\n",
      "Kitchen AbvGr     2051 non-null int64\n",
      "Kitchen Qual      2051 non-null object\n",
      "TotRms AbvGrd     2051 non-null int64\n",
      "Fireplaces        2051 non-null int64\n",
      "Garage Type       1938 non-null object\n",
      "Garage Cars       2050 non-null float64\n",
      "Paved Drive       2051 non-null object\n",
      "Wood Deck SF      2051 non-null int64\n",
      "Open Porch SF     2051 non-null int64\n",
      "Enclosed Porch    2051 non-null int64\n",
      "Fence             400 non-null object\n",
      "Misc Val          2051 non-null int64\n",
      "SalePrice         2051 non-null int64\n",
      "dtypes: float64(6), int64(20), object(27)\n",
      "memory usage: 865.3+ KB\n"
     ]
    }
   ],
   "source": [
    "X = df.drop(['Alley', 'PID', 'Utilities','Exterior 2nd', \n",
    "         'Bsmt Exposure','BsmtFin Type 2','BsmtFin SF 2','Bsmt Unf SF',\n",
    "         'Heating','Electrical','Low Qual Fin SF','Bsmt Half Bath',\n",
    "         'Functional','Fireplace Qu','Garage Yr Blt','Garage Finish',\n",
    "         'Garage Area','Garage Qual','Garage Cond','3Ssn Porch','Screen Porch',\n",
    "         'Pool Area','Pool QC','Misc Feature', 'Mo Sold','Yr Sold','Sale Type'], axis=1)\n",
    "\n",
    "X.info()"
   ]
  },
  {
   "cell_type": "code",
   "execution_count": 53,
   "metadata": {},
   "outputs": [
    {
     "data": {
      "text/plain": [
       "MS SubClass          0\n",
       "MS Zoning            0\n",
       "Lot Frontage       330\n",
       "Lot Area             0\n",
       "Street               0\n",
       "Lot Shape            0\n",
       "Land Contour         0\n",
       "Lot Config           0\n",
       "Land Slope           0\n",
       "Neighborhood         0\n",
       "Condition 1          0\n",
       "Condition 2          0\n",
       "Bldg Type            0\n",
       "House Style          0\n",
       "Overall Qual         0\n",
       "Overall Cond         0\n",
       "Year Built           0\n",
       "Year Remod/Add       0\n",
       "Roof Style           0\n",
       "Roof Matl            0\n",
       "Exterior 1st         0\n",
       "Mas Vnr Type        22\n",
       "Mas Vnr Area        22\n",
       "Exter Qual           0\n",
       "Exter Cond           0\n",
       "Foundation           0\n",
       "Bsmt Qual           55\n",
       "Bsmt Cond           55\n",
       "BsmtFin Type 1      55\n",
       "BsmtFin SF 1         1\n",
       "Total Bsmt SF        1\n",
       "Heating QC           0\n",
       "Central Air          0\n",
       "1st Flr SF           0\n",
       "2nd Flr SF           0\n",
       "Gr Liv Area          0\n",
       "Bsmt Full Bath       2\n",
       "Full Bath            0\n",
       "Half Bath            0\n",
       "Bedroom AbvGr        0\n",
       "Kitchen AbvGr        0\n",
       "Kitchen Qual         0\n",
       "TotRms AbvGrd        0\n",
       "Fireplaces           0\n",
       "Garage Type        113\n",
       "Garage Cars          1\n",
       "Paved Drive          0\n",
       "Wood Deck SF         0\n",
       "Open Porch SF        0\n",
       "Enclosed Porch       0\n",
       "Fence             1651\n",
       "Misc Val             0\n",
       "SalePrice            0\n",
       "dtype: int64"
      ]
     },
     "execution_count": 53,
     "metadata": {},
     "output_type": "execute_result"
    }
   ],
   "source": [
    "X.isnull().sum() # null values by series"
   ]
  },
  {
   "cell_type": "code",
   "execution_count": 54,
   "metadata": {},
   "outputs": [
    {
     "data": {
      "text/html": [
       "<div>\n",
       "<style scoped>\n",
       "    .dataframe tbody tr th:only-of-type {\n",
       "        vertical-align: middle;\n",
       "    }\n",
       "\n",
       "    .dataframe tbody tr th {\n",
       "        vertical-align: top;\n",
       "    }\n",
       "\n",
       "    .dataframe thead th {\n",
       "        text-align: right;\n",
       "    }\n",
       "</style>\n",
       "<table border=\"1\" class=\"dataframe\">\n",
       "  <thead>\n",
       "    <tr style=\"text-align: right;\">\n",
       "      <th></th>\n",
       "      <th>count</th>\n",
       "      <th>mean</th>\n",
       "      <th>std</th>\n",
       "      <th>min</th>\n",
       "      <th>25%</th>\n",
       "      <th>50%</th>\n",
       "      <th>75%</th>\n",
       "      <th>max</th>\n",
       "    </tr>\n",
       "  </thead>\n",
       "  <tbody>\n",
       "    <tr>\n",
       "      <th>MS SubClass</th>\n",
       "      <td>2051.0</td>\n",
       "      <td>57.008776</td>\n",
       "      <td>42.824223</td>\n",
       "      <td>20.0</td>\n",
       "      <td>20.0</td>\n",
       "      <td>50.0</td>\n",
       "      <td>70.00</td>\n",
       "      <td>190.0</td>\n",
       "    </tr>\n",
       "    <tr>\n",
       "      <th>Lot Frontage</th>\n",
       "      <td>1721.0</td>\n",
       "      <td>69.055200</td>\n",
       "      <td>23.260653</td>\n",
       "      <td>21.0</td>\n",
       "      <td>58.0</td>\n",
       "      <td>68.0</td>\n",
       "      <td>80.00</td>\n",
       "      <td>313.0</td>\n",
       "    </tr>\n",
       "    <tr>\n",
       "      <th>Lot Area</th>\n",
       "      <td>2051.0</td>\n",
       "      <td>10065.208191</td>\n",
       "      <td>6742.488909</td>\n",
       "      <td>1300.0</td>\n",
       "      <td>7500.0</td>\n",
       "      <td>9430.0</td>\n",
       "      <td>11513.50</td>\n",
       "      <td>159000.0</td>\n",
       "    </tr>\n",
       "    <tr>\n",
       "      <th>Overall Qual</th>\n",
       "      <td>2051.0</td>\n",
       "      <td>6.112140</td>\n",
       "      <td>1.426271</td>\n",
       "      <td>1.0</td>\n",
       "      <td>5.0</td>\n",
       "      <td>6.0</td>\n",
       "      <td>7.00</td>\n",
       "      <td>10.0</td>\n",
       "    </tr>\n",
       "    <tr>\n",
       "      <th>Overall Cond</th>\n",
       "      <td>2051.0</td>\n",
       "      <td>5.562165</td>\n",
       "      <td>1.104497</td>\n",
       "      <td>1.0</td>\n",
       "      <td>5.0</td>\n",
       "      <td>5.0</td>\n",
       "      <td>6.00</td>\n",
       "      <td>9.0</td>\n",
       "    </tr>\n",
       "    <tr>\n",
       "      <th>Year Built</th>\n",
       "      <td>2051.0</td>\n",
       "      <td>1971.708922</td>\n",
       "      <td>30.177889</td>\n",
       "      <td>1872.0</td>\n",
       "      <td>1953.5</td>\n",
       "      <td>1974.0</td>\n",
       "      <td>2001.00</td>\n",
       "      <td>2010.0</td>\n",
       "    </tr>\n",
       "    <tr>\n",
       "      <th>Year Remod/Add</th>\n",
       "      <td>2051.0</td>\n",
       "      <td>1984.190151</td>\n",
       "      <td>21.036250</td>\n",
       "      <td>1950.0</td>\n",
       "      <td>1964.5</td>\n",
       "      <td>1993.0</td>\n",
       "      <td>2004.00</td>\n",
       "      <td>2010.0</td>\n",
       "    </tr>\n",
       "    <tr>\n",
       "      <th>Mas Vnr Area</th>\n",
       "      <td>2029.0</td>\n",
       "      <td>99.695909</td>\n",
       "      <td>174.963129</td>\n",
       "      <td>0.0</td>\n",
       "      <td>0.0</td>\n",
       "      <td>0.0</td>\n",
       "      <td>161.00</td>\n",
       "      <td>1600.0</td>\n",
       "    </tr>\n",
       "    <tr>\n",
       "      <th>BsmtFin SF 1</th>\n",
       "      <td>2050.0</td>\n",
       "      <td>442.300488</td>\n",
       "      <td>461.204124</td>\n",
       "      <td>0.0</td>\n",
       "      <td>0.0</td>\n",
       "      <td>368.0</td>\n",
       "      <td>733.75</td>\n",
       "      <td>5644.0</td>\n",
       "    </tr>\n",
       "    <tr>\n",
       "      <th>Total Bsmt SF</th>\n",
       "      <td>2050.0</td>\n",
       "      <td>1057.987805</td>\n",
       "      <td>449.410704</td>\n",
       "      <td>0.0</td>\n",
       "      <td>793.0</td>\n",
       "      <td>994.5</td>\n",
       "      <td>1318.75</td>\n",
       "      <td>6110.0</td>\n",
       "    </tr>\n",
       "    <tr>\n",
       "      <th>1st Flr SF</th>\n",
       "      <td>2051.0</td>\n",
       "      <td>1164.488055</td>\n",
       "      <td>396.446923</td>\n",
       "      <td>334.0</td>\n",
       "      <td>879.5</td>\n",
       "      <td>1093.0</td>\n",
       "      <td>1405.00</td>\n",
       "      <td>5095.0</td>\n",
       "    </tr>\n",
       "    <tr>\n",
       "      <th>2nd Flr SF</th>\n",
       "      <td>2051.0</td>\n",
       "      <td>329.329108</td>\n",
       "      <td>425.671046</td>\n",
       "      <td>0.0</td>\n",
       "      <td>0.0</td>\n",
       "      <td>0.0</td>\n",
       "      <td>692.50</td>\n",
       "      <td>1862.0</td>\n",
       "    </tr>\n",
       "    <tr>\n",
       "      <th>Gr Liv Area</th>\n",
       "      <td>2051.0</td>\n",
       "      <td>1499.330083</td>\n",
       "      <td>500.447829</td>\n",
       "      <td>334.0</td>\n",
       "      <td>1129.0</td>\n",
       "      <td>1444.0</td>\n",
       "      <td>1728.50</td>\n",
       "      <td>5642.0</td>\n",
       "    </tr>\n",
       "    <tr>\n",
       "      <th>Bsmt Full Bath</th>\n",
       "      <td>2049.0</td>\n",
       "      <td>0.427526</td>\n",
       "      <td>0.522673</td>\n",
       "      <td>0.0</td>\n",
       "      <td>0.0</td>\n",
       "      <td>0.0</td>\n",
       "      <td>1.00</td>\n",
       "      <td>3.0</td>\n",
       "    </tr>\n",
       "    <tr>\n",
       "      <th>Full Bath</th>\n",
       "      <td>2051.0</td>\n",
       "      <td>1.577279</td>\n",
       "      <td>0.549279</td>\n",
       "      <td>0.0</td>\n",
       "      <td>1.0</td>\n",
       "      <td>2.0</td>\n",
       "      <td>2.00</td>\n",
       "      <td>4.0</td>\n",
       "    </tr>\n",
       "    <tr>\n",
       "      <th>Half Bath</th>\n",
       "      <td>2051.0</td>\n",
       "      <td>0.371039</td>\n",
       "      <td>0.501043</td>\n",
       "      <td>0.0</td>\n",
       "      <td>0.0</td>\n",
       "      <td>0.0</td>\n",
       "      <td>1.00</td>\n",
       "      <td>2.0</td>\n",
       "    </tr>\n",
       "    <tr>\n",
       "      <th>Bedroom AbvGr</th>\n",
       "      <td>2051.0</td>\n",
       "      <td>2.843491</td>\n",
       "      <td>0.826618</td>\n",
       "      <td>0.0</td>\n",
       "      <td>2.0</td>\n",
       "      <td>3.0</td>\n",
       "      <td>3.00</td>\n",
       "      <td>8.0</td>\n",
       "    </tr>\n",
       "    <tr>\n",
       "      <th>Kitchen AbvGr</th>\n",
       "      <td>2051.0</td>\n",
       "      <td>1.042906</td>\n",
       "      <td>0.209790</td>\n",
       "      <td>0.0</td>\n",
       "      <td>1.0</td>\n",
       "      <td>1.0</td>\n",
       "      <td>1.00</td>\n",
       "      <td>3.0</td>\n",
       "    </tr>\n",
       "    <tr>\n",
       "      <th>TotRms AbvGrd</th>\n",
       "      <td>2051.0</td>\n",
       "      <td>6.435885</td>\n",
       "      <td>1.560225</td>\n",
       "      <td>2.0</td>\n",
       "      <td>5.0</td>\n",
       "      <td>6.0</td>\n",
       "      <td>7.00</td>\n",
       "      <td>15.0</td>\n",
       "    </tr>\n",
       "    <tr>\n",
       "      <th>Fireplaces</th>\n",
       "      <td>2051.0</td>\n",
       "      <td>0.590931</td>\n",
       "      <td>0.638516</td>\n",
       "      <td>0.0</td>\n",
       "      <td>0.0</td>\n",
       "      <td>1.0</td>\n",
       "      <td>1.00</td>\n",
       "      <td>4.0</td>\n",
       "    </tr>\n",
       "    <tr>\n",
       "      <th>Garage Cars</th>\n",
       "      <td>2050.0</td>\n",
       "      <td>1.776585</td>\n",
       "      <td>0.764537</td>\n",
       "      <td>0.0</td>\n",
       "      <td>1.0</td>\n",
       "      <td>2.0</td>\n",
       "      <td>2.00</td>\n",
       "      <td>5.0</td>\n",
       "    </tr>\n",
       "    <tr>\n",
       "      <th>Wood Deck SF</th>\n",
       "      <td>2051.0</td>\n",
       "      <td>93.833740</td>\n",
       "      <td>128.549416</td>\n",
       "      <td>0.0</td>\n",
       "      <td>0.0</td>\n",
       "      <td>0.0</td>\n",
       "      <td>168.00</td>\n",
       "      <td>1424.0</td>\n",
       "    </tr>\n",
       "    <tr>\n",
       "      <th>Open Porch SF</th>\n",
       "      <td>2051.0</td>\n",
       "      <td>47.556802</td>\n",
       "      <td>66.747241</td>\n",
       "      <td>0.0</td>\n",
       "      <td>0.0</td>\n",
       "      <td>27.0</td>\n",
       "      <td>70.00</td>\n",
       "      <td>547.0</td>\n",
       "    </tr>\n",
       "    <tr>\n",
       "      <th>Enclosed Porch</th>\n",
       "      <td>2051.0</td>\n",
       "      <td>22.571916</td>\n",
       "      <td>59.845110</td>\n",
       "      <td>0.0</td>\n",
       "      <td>0.0</td>\n",
       "      <td>0.0</td>\n",
       "      <td>0.00</td>\n",
       "      <td>432.0</td>\n",
       "    </tr>\n",
       "    <tr>\n",
       "      <th>Misc Val</th>\n",
       "      <td>2051.0</td>\n",
       "      <td>51.574354</td>\n",
       "      <td>573.393985</td>\n",
       "      <td>0.0</td>\n",
       "      <td>0.0</td>\n",
       "      <td>0.0</td>\n",
       "      <td>0.00</td>\n",
       "      <td>17000.0</td>\n",
       "    </tr>\n",
       "    <tr>\n",
       "      <th>SalePrice</th>\n",
       "      <td>2051.0</td>\n",
       "      <td>181469.701609</td>\n",
       "      <td>79258.659352</td>\n",
       "      <td>12789.0</td>\n",
       "      <td>129825.0</td>\n",
       "      <td>162500.0</td>\n",
       "      <td>214000.00</td>\n",
       "      <td>611657.0</td>\n",
       "    </tr>\n",
       "  </tbody>\n",
       "</table>\n",
       "</div>"
      ],
      "text/plain": [
       "                 count           mean           std      min       25%  \\\n",
       "MS SubClass     2051.0      57.008776     42.824223     20.0      20.0   \n",
       "Lot Frontage    1721.0      69.055200     23.260653     21.0      58.0   \n",
       "Lot Area        2051.0   10065.208191   6742.488909   1300.0    7500.0   \n",
       "Overall Qual    2051.0       6.112140      1.426271      1.0       5.0   \n",
       "Overall Cond    2051.0       5.562165      1.104497      1.0       5.0   \n",
       "Year Built      2051.0    1971.708922     30.177889   1872.0    1953.5   \n",
       "Year Remod/Add  2051.0    1984.190151     21.036250   1950.0    1964.5   \n",
       "Mas Vnr Area    2029.0      99.695909    174.963129      0.0       0.0   \n",
       "BsmtFin SF 1    2050.0     442.300488    461.204124      0.0       0.0   \n",
       "Total Bsmt SF   2050.0    1057.987805    449.410704      0.0     793.0   \n",
       "1st Flr SF      2051.0    1164.488055    396.446923    334.0     879.5   \n",
       "2nd Flr SF      2051.0     329.329108    425.671046      0.0       0.0   \n",
       "Gr Liv Area     2051.0    1499.330083    500.447829    334.0    1129.0   \n",
       "Bsmt Full Bath  2049.0       0.427526      0.522673      0.0       0.0   \n",
       "Full Bath       2051.0       1.577279      0.549279      0.0       1.0   \n",
       "Half Bath       2051.0       0.371039      0.501043      0.0       0.0   \n",
       "Bedroom AbvGr   2051.0       2.843491      0.826618      0.0       2.0   \n",
       "Kitchen AbvGr   2051.0       1.042906      0.209790      0.0       1.0   \n",
       "TotRms AbvGrd   2051.0       6.435885      1.560225      2.0       5.0   \n",
       "Fireplaces      2051.0       0.590931      0.638516      0.0       0.0   \n",
       "Garage Cars     2050.0       1.776585      0.764537      0.0       1.0   \n",
       "Wood Deck SF    2051.0      93.833740    128.549416      0.0       0.0   \n",
       "Open Porch SF   2051.0      47.556802     66.747241      0.0       0.0   \n",
       "Enclosed Porch  2051.0      22.571916     59.845110      0.0       0.0   \n",
       "Misc Val        2051.0      51.574354    573.393985      0.0       0.0   \n",
       "SalePrice       2051.0  181469.701609  79258.659352  12789.0  129825.0   \n",
       "\n",
       "                     50%        75%       max  \n",
       "MS SubClass         50.0      70.00     190.0  \n",
       "Lot Frontage        68.0      80.00     313.0  \n",
       "Lot Area          9430.0   11513.50  159000.0  \n",
       "Overall Qual         6.0       7.00      10.0  \n",
       "Overall Cond         5.0       6.00       9.0  \n",
       "Year Built        1974.0    2001.00    2010.0  \n",
       "Year Remod/Add    1993.0    2004.00    2010.0  \n",
       "Mas Vnr Area         0.0     161.00    1600.0  \n",
       "BsmtFin SF 1       368.0     733.75    5644.0  \n",
       "Total Bsmt SF      994.5    1318.75    6110.0  \n",
       "1st Flr SF        1093.0    1405.00    5095.0  \n",
       "2nd Flr SF           0.0     692.50    1862.0  \n",
       "Gr Liv Area       1444.0    1728.50    5642.0  \n",
       "Bsmt Full Bath       0.0       1.00       3.0  \n",
       "Full Bath            2.0       2.00       4.0  \n",
       "Half Bath            0.0       1.00       2.0  \n",
       "Bedroom AbvGr        3.0       3.00       8.0  \n",
       "Kitchen AbvGr        1.0       1.00       3.0  \n",
       "TotRms AbvGrd        6.0       7.00      15.0  \n",
       "Fireplaces           1.0       1.00       4.0  \n",
       "Garage Cars          2.0       2.00       5.0  \n",
       "Wood Deck SF         0.0     168.00    1424.0  \n",
       "Open Porch SF       27.0      70.00     547.0  \n",
       "Enclosed Porch       0.0       0.00     432.0  \n",
       "Misc Val             0.0       0.00   17000.0  \n",
       "SalePrice       162500.0  214000.00  611657.0  "
      ]
     },
     "execution_count": 54,
     "metadata": {},
     "output_type": "execute_result"
    }
   ],
   "source": [
    "X.describe().T"
   ]
  },
  {
   "cell_type": "code",
   "execution_count": 55,
   "metadata": {},
   "outputs": [
    {
     "data": {
      "text/plain": [
       "Attchd     1213\n",
       "Detchd      536\n",
       "BuiltIn     132\n",
       "Basment      27\n",
       "2Types       19\n",
       "CarPort      11\n",
       "Name: Garage Type, dtype: int64"
      ]
     },
     "execution_count": 55,
     "metadata": {},
     "output_type": "execute_result"
    }
   ],
   "source": [
    "X['Garage Type'].value_counts()"
   ]
  },
  {
   "cell_type": "code",
   "execution_count": 56,
   "metadata": {},
   "outputs": [],
   "source": [
    "X['Lot Frontage'].fillna(0, inplace=True)# Convert null values to zeros\n",
    "X['Full Bath'].fillna(0, inplace=True)\n",
    "X['BsmtFin SF 1'].fillna(0, inplace=True)\n",
    "X['BsmtFin Type 1'].fillna('None', inplace=True)\n",
    "X.drop('Fence', axis=1, inplace=True)\n",
    "X['Mas Vnr Area'].fillna(0, inplace=True)\n",
    "X['Garage Type'].fillna('None', inplace=True)\n",
    "X['Mas Vnr Type'].fillna('None', inplace=True)\n",
    "X['Total Bsmt SF'].fillna(0, inplace=True)\n",
    "X['Bsmt Full Bath'].fillna(0, inplace=True)\n",
    "X['Garage Cars'].fillna(0, inplace=True)\n",
    "X['Bsmt Qual'].fillna(0, inplace=True)\n",
    "X['Bsmt Cond'].fillna(0, inplace=True)"
   ]
  },
  {
   "cell_type": "code",
   "execution_count": 57,
   "metadata": {},
   "outputs": [
    {
     "data": {
      "text/plain": [
       "0"
      ]
     },
     "execution_count": 57,
     "metadata": {},
     "output_type": "execute_result"
    }
   ],
   "source": [
    "X.isnull().sum().sum()"
   ]
  },
  {
   "cell_type": "code",
   "execution_count": 58,
   "metadata": {},
   "outputs": [
    {
     "name": "stdout",
     "output_type": "stream",
     "text": [
      "<class 'pandas.core.frame.DataFrame'>\n",
      "Int64Index: 2051 entries, 109 to 10\n",
      "Data columns (total 52 columns):\n",
      "MS SubClass       2051 non-null int64\n",
      "MS Zoning         2051 non-null object\n",
      "Lot Frontage      2051 non-null float64\n",
      "Lot Area          2051 non-null int64\n",
      "Street            2051 non-null object\n",
      "Lot Shape         2051 non-null object\n",
      "Land Contour      2051 non-null object\n",
      "Lot Config        2051 non-null object\n",
      "Land Slope        2051 non-null object\n",
      "Neighborhood      2051 non-null object\n",
      "Condition 1       2051 non-null object\n",
      "Condition 2       2051 non-null object\n",
      "Bldg Type         2051 non-null object\n",
      "House Style       2051 non-null object\n",
      "Overall Qual      2051 non-null int64\n",
      "Overall Cond      2051 non-null int64\n",
      "Year Built        2051 non-null int64\n",
      "Year Remod/Add    2051 non-null int64\n",
      "Roof Style        2051 non-null object\n",
      "Roof Matl         2051 non-null object\n",
      "Exterior 1st      2051 non-null object\n",
      "Mas Vnr Type      2051 non-null object\n",
      "Mas Vnr Area      2051 non-null float64\n",
      "Exter Qual        2051 non-null object\n",
      "Exter Cond        2051 non-null object\n",
      "Foundation        2051 non-null object\n",
      "Bsmt Qual         2051 non-null object\n",
      "Bsmt Cond         2051 non-null object\n",
      "BsmtFin Type 1    2051 non-null object\n",
      "BsmtFin SF 1      2051 non-null float64\n",
      "Total Bsmt SF     2051 non-null float64\n",
      "Heating QC        2051 non-null object\n",
      "Central Air       2051 non-null object\n",
      "1st Flr SF        2051 non-null int64\n",
      "2nd Flr SF        2051 non-null int64\n",
      "Gr Liv Area       2051 non-null int64\n",
      "Bsmt Full Bath    2051 non-null float64\n",
      "Full Bath         2051 non-null int64\n",
      "Half Bath         2051 non-null int64\n",
      "Bedroom AbvGr     2051 non-null int64\n",
      "Kitchen AbvGr     2051 non-null int64\n",
      "Kitchen Qual      2051 non-null object\n",
      "TotRms AbvGrd     2051 non-null int64\n",
      "Fireplaces        2051 non-null int64\n",
      "Garage Type       2051 non-null object\n",
      "Garage Cars       2051 non-null float64\n",
      "Paved Drive       2051 non-null object\n",
      "Wood Deck SF      2051 non-null int64\n",
      "Open Porch SF     2051 non-null int64\n",
      "Enclosed Porch    2051 non-null int64\n",
      "Misc Val          2051 non-null int64\n",
      "SalePrice         2051 non-null int64\n",
      "dtypes: float64(6), int64(20), object(26)\n",
      "memory usage: 849.2+ KB\n"
     ]
    }
   ],
   "source": [
    "X.info()"
   ]
  },
  {
   "cell_type": "code",
   "execution_count": 59,
   "metadata": {},
   "outputs": [
    {
     "name": "stdout",
     "output_type": "stream",
     "text": [
      "<class 'pandas.core.frame.DataFrame'>\n",
      "Int64Index: 2051 entries, 109 to 10\n",
      "Data columns (total 52 columns):\n",
      "MS SubClass       2051 non-null object\n",
      "MS Zoning         2051 non-null object\n",
      "Lot Frontage      2051 non-null float64\n",
      "Lot Area          2051 non-null int64\n",
      "Street            2051 non-null object\n",
      "Lot Shape         2051 non-null object\n",
      "Land Contour      2051 non-null object\n",
      "Lot Config        2051 non-null object\n",
      "Land Slope        2051 non-null object\n",
      "Neighborhood      2051 non-null object\n",
      "Condition 1       2051 non-null object\n",
      "Condition 2       2051 non-null object\n",
      "Bldg Type         2051 non-null object\n",
      "House Style       2051 non-null object\n",
      "Overall Qual      2051 non-null int64\n",
      "Overall Cond      2051 non-null int64\n",
      "Year Built        2051 non-null int64\n",
      "Year Remod/Add    2051 non-null int64\n",
      "Roof Style        2051 non-null object\n",
      "Roof Matl         2051 non-null object\n",
      "Exterior 1st      2051 non-null object\n",
      "Mas Vnr Type      2051 non-null object\n",
      "Mas Vnr Area      2051 non-null float64\n",
      "Exter Qual        2051 non-null object\n",
      "Exter Cond        2051 non-null object\n",
      "Foundation        2051 non-null object\n",
      "Bsmt Qual         2051 non-null object\n",
      "Bsmt Cond         2051 non-null object\n",
      "BsmtFin Type 1    2051 non-null object\n",
      "BsmtFin SF 1      2051 non-null float64\n",
      "Total Bsmt SF     2051 non-null float64\n",
      "Heating QC        2051 non-null object\n",
      "Central Air       2051 non-null object\n",
      "1st Flr SF        2051 non-null int64\n",
      "2nd Flr SF        2051 non-null int64\n",
      "Gr Liv Area       2051 non-null int64\n",
      "Bsmt Full Bath    2051 non-null float64\n",
      "Full Bath         2051 non-null int64\n",
      "Half Bath         2051 non-null int64\n",
      "Bedroom AbvGr     2051 non-null int64\n",
      "Kitchen AbvGr     2051 non-null int64\n",
      "Kitchen Qual      2051 non-null object\n",
      "TotRms AbvGrd     2051 non-null int64\n",
      "Fireplaces        2051 non-null int64\n",
      "Garage Type       2051 non-null object\n",
      "Garage Cars       2051 non-null float64\n",
      "Paved Drive       2051 non-null object\n",
      "Wood Deck SF      2051 non-null int64\n",
      "Open Porch SF     2051 non-null int64\n",
      "Enclosed Porch    2051 non-null int64\n",
      "Misc Val          2051 non-null int64\n",
      "SalePrice         2051 non-null int64\n",
      "dtypes: float64(6), int64(19), object(27)\n",
      "memory usage: 849.2+ KB\n"
     ]
    }
   ],
   "source": [
    "X['MS SubClass'] = X['MS SubClass'].astype(str)\n",
    "X.info()"
   ]
  },
  {
   "cell_type": "code",
   "execution_count": 60,
   "metadata": {},
   "outputs": [],
   "source": [
    "X['Year Built'] = X['Year Built'].apply(lambda x: 2018 - x)"
   ]
  },
  {
   "cell_type": "code",
   "execution_count": 61,
   "metadata": {},
   "outputs": [],
   "source": [
    "X['Year Remod/Add'] = X['Year Remod/Add'].apply(lambda x: 2018 - x)"
   ]
  },
  {
   "cell_type": "code",
   "execution_count": 62,
   "metadata": {},
   "outputs": [
    {
     "data": {
      "text/plain": [
       "Id\n",
       "109    13\n",
       "Name: Year Remod/Add, dtype: int64"
      ]
     },
     "execution_count": 62,
     "metadata": {},
     "output_type": "execute_result"
    }
   ],
   "source": [
    "X['Year Remod/Add'].head(1)"
   ]
  },
  {
   "cell_type": "code",
   "execution_count": 63,
   "metadata": {
    "scrolled": true
   },
   "outputs": [],
   "source": [
    "X = X[['Lot Area', 'Overall Qual', \n",
    "       'Overall Cond', 'Year Built', \n",
    "       'Bsmt Qual', 'Total Bsmt SF', \n",
    "       '1st Flr SF', '2nd Flr SF', \n",
    "       'Gr Liv Area', 'Bsmt Full Bath', \n",
    "       'Full Bath', 'Half Bath','Kitchen Qual',]]"
   ]
  },
  {
   "cell_type": "code",
   "execution_count": 64,
   "metadata": {},
   "outputs": [],
   "source": [
    "def corr_map(df, figsize=(20,10), mask_val = None):\n",
    "    # Make correlation heat map from pandas dataframe\n",
    "    # pass a value to mask_val to only see correlations\n",
    "    # above a certain value (the absolute value of the correlation)\n",
    "\n",
    "    # Arguments:\n",
    "    # df - pandas dataframe to with data for heatmap\n",
    "    # figsize - size of resulting figure (width, height), default: (15, 10) (inches?)\n",
    "    # mask_val - threshold for displaying correlations, default: None\n",
    "\n",
    "    corr = X.corr()    \n",
    "    \n",
    "    # Make mask to only show bottom triangle\n",
    "    mask = np.zeros_like(corr)\n",
    "    mask[np.triu_indices_from(corr)] = True\n",
    "    \n",
    "    # Add to the mask (if mask_val passed)\n",
    "    if (mask_val != None):\n",
    "        mask[abs(corr) < mask_val] = True\n",
    "    \n",
    "    # Make heatmap\n",
    "    f, ax = plt.subplots(figsize=figsize)\n",
    "    sns.heatmap(corr,vmin=0.4,vmax=1, mask=mask, annot=True, fmt='.2g')\n",
    "    pass"
   ]
  },
  {
   "cell_type": "code",
   "execution_count": 65,
   "metadata": {},
   "outputs": [
    {
     "data": {
      "image/png": "[encoded data removed]",
      "text/plain": [
       "<matplotlib.figure.Figure at 0x1a1298c358>"
      ]
     },
     "metadata": {},
     "output_type": "display_data"
    }
   ],
   "source": [
    "corr_map(X);"
   ]
  },
  {
   "cell_type": "code",
   "execution_count": 66,
   "metadata": {},
   "outputs": [],
   "source": [
    "X['1stfl+Totbsmt'] = X['1st Flr SF'] * X['Total Bsmt SF']\n",
    "X['Grliv+2ndfl'] = X['Gr Liv Area'] * X['2nd Flr SF']\n",
    "X['Halfbath+2ndfl'] = X['Half Bath'] * X['2nd Flr SF']\n",
    "X['Fullbath+Grliv'] = X['Full Bath'] * X['Gr Liv Area']"
   ]
  },
  {
   "cell_type": "code",
   "execution_count": 67,
   "metadata": {},
   "outputs": [
    {
     "data": {
      "text/html": [
       "<div>\n",
       "<style scoped>\n",
       "    .dataframe tbody tr th:only-of-type {\n",
       "        vertical-align: middle;\n",
       "    }\n",
       "\n",
       "    .dataframe tbody tr th {\n",
       "        vertical-align: top;\n",
       "    }\n",
       "\n",
       "    .dataframe thead th {\n",
       "        text-align: right;\n",
       "    }\n",
       "</style>\n",
       "<table border=\"1\" class=\"dataframe\">\n",
       "  <thead>\n",
       "    <tr style=\"text-align: right;\">\n",
       "      <th>Id</th>\n",
       "      <th>109</th>\n",
       "    </tr>\n",
       "  </thead>\n",
       "  <tbody>\n",
       "    <tr>\n",
       "      <th>Lot Area</th>\n",
       "      <td>13517</td>\n",
       "    </tr>\n",
       "    <tr>\n",
       "      <th>Overall Qual</th>\n",
       "      <td>6</td>\n",
       "    </tr>\n",
       "    <tr>\n",
       "      <th>Overall Cond</th>\n",
       "      <td>8</td>\n",
       "    </tr>\n",
       "    <tr>\n",
       "      <th>Year Built</th>\n",
       "      <td>42</td>\n",
       "    </tr>\n",
       "    <tr>\n",
       "      <th>Bsmt Qual</th>\n",
       "      <td>TA</td>\n",
       "    </tr>\n",
       "    <tr>\n",
       "      <th>Total Bsmt SF</th>\n",
       "      <td>725</td>\n",
       "    </tr>\n",
       "    <tr>\n",
       "      <th>1st Flr SF</th>\n",
       "      <td>725</td>\n",
       "    </tr>\n",
       "    <tr>\n",
       "      <th>2nd Flr SF</th>\n",
       "      <td>754</td>\n",
       "    </tr>\n",
       "    <tr>\n",
       "      <th>Gr Liv Area</th>\n",
       "      <td>1479</td>\n",
       "    </tr>\n",
       "    <tr>\n",
       "      <th>Bsmt Full Bath</th>\n",
       "      <td>0</td>\n",
       "    </tr>\n",
       "    <tr>\n",
       "      <th>Full Bath</th>\n",
       "      <td>2</td>\n",
       "    </tr>\n",
       "    <tr>\n",
       "      <th>Half Bath</th>\n",
       "      <td>1</td>\n",
       "    </tr>\n",
       "    <tr>\n",
       "      <th>Kitchen Qual</th>\n",
       "      <td>Gd</td>\n",
       "    </tr>\n",
       "    <tr>\n",
       "      <th>1stfl+Totbsmt</th>\n",
       "      <td>525625</td>\n",
       "    </tr>\n",
       "    <tr>\n",
       "      <th>Grliv+2ndfl</th>\n",
       "      <td>1115166</td>\n",
       "    </tr>\n",
       "    <tr>\n",
       "      <th>Halfbath+2ndfl</th>\n",
       "      <td>754</td>\n",
       "    </tr>\n",
       "    <tr>\n",
       "      <th>Fullbath+Grliv</th>\n",
       "      <td>2958</td>\n",
       "    </tr>\n",
       "  </tbody>\n",
       "</table>\n",
       "</div>"
      ],
      "text/plain": [
       "Id                  109\n",
       "Lot Area          13517\n",
       "Overall Qual          6\n",
       "Overall Cond          8\n",
       "Year Built           42\n",
       "Bsmt Qual            TA\n",
       "Total Bsmt SF       725\n",
       "1st Flr SF          725\n",
       "2nd Flr SF          754\n",
       "Gr Liv Area        1479\n",
       "Bsmt Full Bath        0\n",
       "Full Bath             2\n",
       "Half Bath             1\n",
       "Kitchen Qual         Gd\n",
       "1stfl+Totbsmt    525625\n",
       "Grliv+2ndfl     1115166\n",
       "Halfbath+2ndfl      754\n",
       "Fullbath+Grliv     2958"
      ]
     },
     "execution_count": 67,
     "metadata": {},
     "output_type": "execute_result"
    }
   ],
   "source": [
    "X.head(1).T"
   ]
  },
  {
   "cell_type": "code",
   "execution_count": 68,
   "metadata": {},
   "outputs": [],
   "source": [
    "X = pd.get_dummies(X, columns=['Bsmt Qual',\n",
    "                               'Kitchen Qual'],\n",
    "                                drop_first=True)"
   ]
  },
  {
   "cell_type": "code",
   "execution_count": 69,
   "metadata": {},
   "outputs": [],
   "source": [
    "X_train, X_test, y_train, y_test = train_test_split(X, y, random_state=1)"
   ]
  },
  {
   "cell_type": "code",
   "execution_count": 70,
   "metadata": {},
   "outputs": [
    {
     "data": {
      "text/plain": [
       "((1538, 23), (1538,))"
      ]
     },
     "execution_count": 70,
     "metadata": {},
     "output_type": "execute_result"
    }
   ],
   "source": [
    "X_train.shape, y_train.shape"
   ]
  },
  {
   "cell_type": "code",
   "execution_count": 71,
   "metadata": {},
   "outputs": [],
   "source": [
    "r_alphas = np.logspace(0, 5, 200) # generates 200 points between 10^0, 10^5\n",
    "ridge_model = RidgeCV(alphas=r_alphas, store_cv_values=True)\n",
    "ridge_model = ridge_model.fit(X_train, y_train)"
   ]
  },
  {
   "cell_type": "code",
   "execution_count": 72,
   "metadata": {},
   "outputs": [],
   "source": [
    "ridge_optimal_alpha = ridge_model.alpha_"
   ]
  },
  {
   "cell_type": "code",
   "execution_count": 73,
   "metadata": {},
   "outputs": [
    {
     "data": {
      "text/plain": [
       "(922687100.2681602, 0.8468271019622498, 30375.76501535657)"
      ]
     },
     "execution_count": 73,
     "metadata": {},
     "output_type": "execute_result"
    }
   ],
   "source": [
    "alpha = ridge_optimal_alpha\n",
    "ridge_model = Ridge(alpha=alpha)  # This replaces LinearRegression\n",
    "ridge_cv_mean_mse = -cross_val_score(ridge_model,\n",
    "                                  X_train,\n",
    "                                  y_train,\n",
    "                                  cv=5,\n",
    "                                  scoring='neg_mean_squared_error').mean()\n",
    "ridge_cv_mean_r2 = cross_val_score(ridge_model,\n",
    "                                  X_train,\n",
    "                                  y_train,\n",
    "                                  cv=5,\n",
    "                                  scoring='r2').mean()\n",
    "ridge_cv_mean_mse, ridge_cv_mean_r2, ridge_cv_mean_mse**(1/2)"
   ]
  },
  {
   "cell_type": "code",
   "execution_count": 74,
   "metadata": {},
   "outputs": [
    {
     "data": {
      "text/plain": [
       "(873107033.9806818, 29548.38462557102)"
      ]
     },
     "execution_count": 74,
     "metadata": {},
     "output_type": "execute_result"
    }
   ],
   "source": [
    "ridge_cv_mean_mse = -cross_val_score(ridge_model,\n",
    "                                  X_test,\n",
    "                                  y_test,\n",
    "                                  cv=5,\n",
    "                                  scoring='neg_mean_squared_error').mean()\n",
    "ridge_cv_mean_mse, ridge_cv_mean_mse**(1/2)"
   ]
  },
  {
   "cell_type": "code",
   "execution_count": 75,
   "metadata": {
    "scrolled": false
   },
   "outputs": [
    {
     "data": {
      "text/plain": [
       "(879, 80)"
      ]
     },
     "execution_count": 75,
     "metadata": {},
     "output_type": "execute_result"
    }
   ],
   "source": [
    "df_test = pd.read_csv('test.csv')\n",
    "\n",
    "df_test.shape"
   ]
  },
  {
   "cell_type": "code",
   "execution_count": 76,
   "metadata": {},
   "outputs": [],
   "source": [
    "X1 = df_test"
   ]
  },
  {
   "cell_type": "code",
   "execution_count": 77,
   "metadata": {},
   "outputs": [
    {
     "data": {
      "text/plain": [
       "Id                  0\n",
       "MS SubClass         0\n",
       "MS Zoning           0\n",
       "Lot Frontage      160\n",
       "Lot Area            0\n",
       "Street              0\n",
       "Lot Shape           0\n",
       "Land Contour        0\n",
       "Lot Config          0\n",
       "Land Slope          0\n",
       "Neighborhood        0\n",
       "Condition 1         0\n",
       "Condition 2         0\n",
       "Bldg Type           0\n",
       "House Style         0\n",
       "Overall Qual        0\n",
       "Overall Cond        0\n",
       "Year Built          0\n",
       "Year Remod/Add      0\n",
       "Roof Style          0\n",
       "Roof Matl           0\n",
       "Exterior 1st        0\n",
       "Mas Vnr Type        1\n",
       "Mas Vnr Area        1\n",
       "Exter Qual          0\n",
       "Exter Cond          0\n",
       "Foundation          0\n",
       "Bsmt Qual          25\n",
       "Bsmt Cond          25\n",
       "BsmtFin Type 1     25\n",
       "BsmtFin SF 1        0\n",
       "Total Bsmt SF       0\n",
       "Heating QC          0\n",
       "Central Air         0\n",
       "1st Flr SF          0\n",
       "2nd Flr SF          0\n",
       "Gr Liv Area         0\n",
       "Bsmt Full Bath      0\n",
       "Full Bath           0\n",
       "Half Bath           0\n",
       "Bedroom AbvGr       0\n",
       "Kitchen AbvGr       0\n",
       "Kitchen Qual        0\n",
       "TotRms AbvGrd       0\n",
       "Fireplaces          0\n",
       "Garage Type        44\n",
       "Garage Cars         0\n",
       "Paved Drive         0\n",
       "Wood Deck SF        0\n",
       "Open Porch SF       0\n",
       "Enclosed Porch      0\n",
       "Fence             707\n",
       "Misc Val            0\n",
       "dtype: int64"
      ]
     },
     "execution_count": 77,
     "metadata": {},
     "output_type": "execute_result"
    }
   ],
   "source": [
    "X1 = X1.drop(['Alley', 'PID', 'Utilities','Exterior 2nd', \n",
    "         'Bsmt Exposure','BsmtFin Type 2','BsmtFin SF 2','Bsmt Unf SF',\n",
    "         'Heating','Electrical','Low Qual Fin SF','Bsmt Half Bath',\n",
    "         'Functional','Fireplace Qu','Garage Yr Blt','Garage Finish',\n",
    "         'Garage Area','Garage Qual','Garage Cond','3Ssn Porch','Screen Porch',\n",
    "         'Pool Area','Pool QC','Misc Feature', 'Mo Sold','Yr Sold','Sale Type'], axis=1)\n",
    "X1.isnull().sum() # null values by series"
   ]
  },
  {
   "cell_type": "code",
   "execution_count": 78,
   "metadata": {},
   "outputs": [],
   "source": [
    "X1['Lot Frontage'].fillna(0, inplace=True)# Convert null values to zeros\n",
    "X1['Full Bath'].fillna(0, inplace=True)\n",
    "X1['BsmtFin SF 1'].fillna(0, inplace=True)\n",
    "X1['BsmtFin Type 1'].fillna('None', inplace=True)\n",
    "X1.drop('Fence', axis=1, inplace=True)\n",
    "X1['Mas Vnr Area'].fillna(0, inplace=True)\n",
    "X1['Garage Type'].fillna('None', inplace=True)\n",
    "X1['Mas Vnr Type'].fillna('None', inplace=True)\n",
    "X1['Total Bsmt SF'].fillna(0, inplace=True)\n",
    "X1['Bsmt Full Bath'].fillna(0, inplace=True)\n",
    "X1['Garage Cars'].fillna(0, inplace=True)\n",
    "X1['Bsmt Qual'].fillna(0, inplace=True)\n",
    "X1['Bsmt Cond'].fillna(0, inplace=True)"
   ]
  },
  {
   "cell_type": "code",
   "execution_count": 79,
   "metadata": {},
   "outputs": [
    {
     "data": {
      "text/plain": [
       "0"
      ]
     },
     "execution_count": 79,
     "metadata": {},
     "output_type": "execute_result"
    }
   ],
   "source": [
    "X1.isnull().sum().sum()"
   ]
  },
  {
   "cell_type": "code",
   "execution_count": 80,
   "metadata": {},
   "outputs": [],
   "source": [
    "X1['Year Built'] = X1['Year Built'].apply(lambda x: 2018 - x)\n",
    "X1['Year Remod/Add'] = X1['Year Remod/Add'].apply(lambda x: 2018 - x)"
   ]
  },
  {
   "cell_type": "code",
   "execution_count": 81,
   "metadata": {},
   "outputs": [],
   "source": [
    "X1 = X1[['Lot Area', 'Overall Qual', \n",
    "       'Overall Cond', 'Year Built', \n",
    "       'Bsmt Qual', 'Total Bsmt SF', \n",
    "       '1st Flr SF', '2nd Flr SF', \n",
    "       'Gr Liv Area', 'Bsmt Full Bath', \n",
    "       'Full Bath', 'Half Bath','Kitchen Qual',]]"
   ]
  },
  {
   "cell_type": "code",
   "execution_count": 82,
   "metadata": {},
   "outputs": [],
   "source": [
    "X1['1stfl+Totbsmt'] = X1['1st Flr SF'] * X1['Total Bsmt SF']\n",
    "X1['Grliv+2ndfl'] = X1['Gr Liv Area'] * X1['2nd Flr SF']\n",
    "X1['Halfbath+2ndfl'] = X1['Half Bath'] * X1['2nd Flr SF']\n",
    "X1['Fullbath+Grliv'] = X1['Full Bath'] * X1['Gr Liv Area']"
   ]
  },
  {
   "cell_type": "code",
   "execution_count": 83,
   "metadata": {},
   "outputs": [],
   "source": [
    "X1 = pd.get_dummies(X1, columns=['Bsmt Qual', \n",
    "                                 'Kitchen Qual'],\n",
    "                                  drop_first=True)"
   ]
  },
  {
   "cell_type": "code",
   "execution_count": 84,
   "metadata": {},
   "outputs": [
    {
     "data": {
      "text/html": [
       "<div>\n",
       "<style scoped>\n",
       "    .dataframe tbody tr th:only-of-type {\n",
       "        vertical-align: middle;\n",
       "    }\n",
       "\n",
       "    .dataframe tbody tr th {\n",
       "        vertical-align: top;\n",
       "    }\n",
       "\n",
       "    .dataframe thead th {\n",
       "        text-align: right;\n",
       "    }\n",
       "</style>\n",
       "<table border=\"1\" class=\"dataframe\">\n",
       "  <thead>\n",
       "    <tr style=\"text-align: right;\">\n",
       "      <th></th>\n",
       "      <th>0</th>\n",
       "    </tr>\n",
       "  </thead>\n",
       "  <tbody>\n",
       "    <tr>\n",
       "      <th>Lot Area</th>\n",
       "      <td>9142.0</td>\n",
       "    </tr>\n",
       "    <tr>\n",
       "      <th>Overall Qual</th>\n",
       "      <td>6.0</td>\n",
       "    </tr>\n",
       "    <tr>\n",
       "      <th>Overall Cond</th>\n",
       "      <td>8.0</td>\n",
       "    </tr>\n",
       "    <tr>\n",
       "      <th>Year Built</th>\n",
       "      <td>108.0</td>\n",
       "    </tr>\n",
       "    <tr>\n",
       "      <th>Total Bsmt SF</th>\n",
       "      <td>1020.0</td>\n",
       "    </tr>\n",
       "    <tr>\n",
       "      <th>1st Flr SF</th>\n",
       "      <td>908.0</td>\n",
       "    </tr>\n",
       "    <tr>\n",
       "      <th>2nd Flr SF</th>\n",
       "      <td>1020.0</td>\n",
       "    </tr>\n",
       "    <tr>\n",
       "      <th>Gr Liv Area</th>\n",
       "      <td>1928.0</td>\n",
       "    </tr>\n",
       "    <tr>\n",
       "      <th>Bsmt Full Bath</th>\n",
       "      <td>0.0</td>\n",
       "    </tr>\n",
       "    <tr>\n",
       "      <th>Full Bath</th>\n",
       "      <td>2.0</td>\n",
       "    </tr>\n",
       "    <tr>\n",
       "      <th>Half Bath</th>\n",
       "      <td>0.0</td>\n",
       "    </tr>\n",
       "    <tr>\n",
       "      <th>1stfl+Totbsmt</th>\n",
       "      <td>926160.0</td>\n",
       "    </tr>\n",
       "    <tr>\n",
       "      <th>Grliv+2ndfl</th>\n",
       "      <td>1966560.0</td>\n",
       "    </tr>\n",
       "    <tr>\n",
       "      <th>Halfbath+2ndfl</th>\n",
       "      <td>0.0</td>\n",
       "    </tr>\n",
       "    <tr>\n",
       "      <th>Fullbath+Grliv</th>\n",
       "      <td>3856.0</td>\n",
       "    </tr>\n",
       "    <tr>\n",
       "      <th>Bsmt Qual_Ex</th>\n",
       "      <td>0.0</td>\n",
       "    </tr>\n",
       "    <tr>\n",
       "      <th>Bsmt Qual_Fa</th>\n",
       "      <td>1.0</td>\n",
       "    </tr>\n",
       "    <tr>\n",
       "      <th>Bsmt Qual_Gd</th>\n",
       "      <td>0.0</td>\n",
       "    </tr>\n",
       "    <tr>\n",
       "      <th>Bsmt Qual_Po</th>\n",
       "      <td>0.0</td>\n",
       "    </tr>\n",
       "    <tr>\n",
       "      <th>Bsmt Qual_TA</th>\n",
       "      <td>0.0</td>\n",
       "    </tr>\n",
       "    <tr>\n",
       "      <th>Kitchen Qual_Fa</th>\n",
       "      <td>1.0</td>\n",
       "    </tr>\n",
       "    <tr>\n",
       "      <th>Kitchen Qual_Gd</th>\n",
       "      <td>0.0</td>\n",
       "    </tr>\n",
       "    <tr>\n",
       "      <th>Kitchen Qual_Po</th>\n",
       "      <td>0.0</td>\n",
       "    </tr>\n",
       "    <tr>\n",
       "      <th>Kitchen Qual_TA</th>\n",
       "      <td>0.0</td>\n",
       "    </tr>\n",
       "  </tbody>\n",
       "</table>\n",
       "</div>"
      ],
      "text/plain": [
       "                         0\n",
       "Lot Area            9142.0\n",
       "Overall Qual           6.0\n",
       "Overall Cond           8.0\n",
       "Year Built           108.0\n",
       "Total Bsmt SF       1020.0\n",
       "1st Flr SF           908.0\n",
       "2nd Flr SF          1020.0\n",
       "Gr Liv Area         1928.0\n",
       "Bsmt Full Bath         0.0\n",
       "Full Bath              2.0\n",
       "Half Bath              0.0\n",
       "1stfl+Totbsmt     926160.0\n",
       "Grliv+2ndfl      1966560.0\n",
       "Halfbath+2ndfl         0.0\n",
       "Fullbath+Grliv      3856.0\n",
       "Bsmt Qual_Ex           0.0\n",
       "Bsmt Qual_Fa           1.0\n",
       "Bsmt Qual_Gd           0.0\n",
       "Bsmt Qual_Po           0.0\n",
       "Bsmt Qual_TA           0.0\n",
       "Kitchen Qual_Fa        1.0\n",
       "Kitchen Qual_Gd        0.0\n",
       "Kitchen Qual_Po        0.0\n",
       "Kitchen Qual_TA        0.0"
      ]
     },
     "execution_count": 84,
     "metadata": {},
     "output_type": "execute_result"
    }
   ],
   "source": [
    "X1.head(1).T"
   ]
  },
  {
   "cell_type": "code",
   "execution_count": 92,
   "metadata": {},
   "outputs": [
    {
     "data": {
      "text/plain": [
       "(1538, 24)"
      ]
     },
     "execution_count": 92,
     "metadata": {},
     "output_type": "execute_result"
    }
   ],
   "source": [
    "X_train.shape"
   ]
  },
  {
   "cell_type": "code",
   "execution_count": 93,
   "metadata": {},
   "outputs": [
    {
     "name": "stderr",
     "output_type": "stream",
     "text": [
      "/anaconda3/lib/python3.6/site-packages/ipykernel/__main__.py:1: SettingWithCopyWarning: \n",
      "A value is trying to be set on a copy of a slice from a DataFrame.\n",
      "Try using .loc[row_indexer,col_indexer] = value instead\n",
      "\n",
      "See the caveats in the documentation: http://pandas.pydata.org/pandas-docs/stable/indexing.html#indexing-view-versus-copy\n",
      "  if __name__ == '__main__':\n"
     ]
    }
   ],
   "source": [
    "X_train['Kitchen Qual_Po'] = 0"
   ]
  },
  {
   "cell_type": "code",
   "execution_count": 94,
   "metadata": {
    "scrolled": true
   },
   "outputs": [
    {
     "data": {
      "text/plain": [
       "(879, 24)"
      ]
     },
     "execution_count": 94,
     "metadata": {},
     "output_type": "execute_result"
    }
   ],
   "source": [
    "X1.shape"
   ]
  },
  {
   "cell_type": "code",
   "execution_count": 95,
   "metadata": {},
   "outputs": [],
   "source": [
    "y_pred_ridge = ridge_model.fit(X_train, y_train).predict(X1)"
   ]
  },
  {
   "cell_type": "code",
   "execution_count": 96,
   "metadata": {},
   "outputs": [
    {
     "data": {
      "text/plain": [
       "(879,)"
      ]
     },
     "execution_count": 96,
     "metadata": {},
     "output_type": "execute_result"
    }
   ],
   "source": [
    "y_pred_ridge.shape"
   ]
  },
  {
   "cell_type": "code",
   "execution_count": 97,
   "metadata": {},
   "outputs": [],
   "source": [
    "X1['SalePrice'] = y_pred_ridge"
   ]
  },
  {
   "cell_type": "code",
   "execution_count": 98,
   "metadata": {},
   "outputs": [
    {
     "data": {
      "text/html": [
       "<div>\n",
       "<style scoped>\n",
       "    .dataframe tbody tr th:only-of-type {\n",
       "        vertical-align: middle;\n",
       "    }\n",
       "\n",
       "    .dataframe tbody tr th {\n",
       "        vertical-align: top;\n",
       "    }\n",
       "\n",
       "    .dataframe thead th {\n",
       "        text-align: right;\n",
       "    }\n",
       "</style>\n",
       "<table border=\"1\" class=\"dataframe\">\n",
       "  <thead>\n",
       "    <tr style=\"text-align: right;\">\n",
       "      <th></th>\n",
       "      <th>Lot Area</th>\n",
       "      <th>Overall Qual</th>\n",
       "      <th>Overall Cond</th>\n",
       "      <th>Year Built</th>\n",
       "      <th>Total Bsmt SF</th>\n",
       "      <th>1st Flr SF</th>\n",
       "      <th>2nd Flr SF</th>\n",
       "      <th>Gr Liv Area</th>\n",
       "      <th>Bsmt Full Bath</th>\n",
       "      <th>Full Bath</th>\n",
       "      <th>...</th>\n",
       "      <th>Bsmt Qual_Ex</th>\n",
       "      <th>Bsmt Qual_Fa</th>\n",
       "      <th>Bsmt Qual_Gd</th>\n",
       "      <th>Bsmt Qual_Po</th>\n",
       "      <th>Bsmt Qual_TA</th>\n",
       "      <th>Kitchen Qual_Fa</th>\n",
       "      <th>Kitchen Qual_Gd</th>\n",
       "      <th>Kitchen Qual_Po</th>\n",
       "      <th>Kitchen Qual_TA</th>\n",
       "      <th>SalePrice</th>\n",
       "    </tr>\n",
       "  </thead>\n",
       "  <tbody>\n",
       "    <tr>\n",
       "      <th>0</th>\n",
       "      <td>9142</td>\n",
       "      <td>6</td>\n",
       "      <td>8</td>\n",
       "      <td>108</td>\n",
       "      <td>1020.0</td>\n",
       "      <td>908</td>\n",
       "      <td>1020</td>\n",
       "      <td>1928</td>\n",
       "      <td>0.0</td>\n",
       "      <td>2</td>\n",
       "      <td>...</td>\n",
       "      <td>0</td>\n",
       "      <td>1</td>\n",
       "      <td>0</td>\n",
       "      <td>0</td>\n",
       "      <td>0</td>\n",
       "      <td>1</td>\n",
       "      <td>0</td>\n",
       "      <td>0</td>\n",
       "      <td>0</td>\n",
       "      <td>188051.432652</td>\n",
       "    </tr>\n",
       "  </tbody>\n",
       "</table>\n",
       "<p>1 rows × 25 columns</p>\n",
       "</div>"
      ],
      "text/plain": [
       "   Lot Area  Overall Qual  Overall Cond  Year Built  Total Bsmt SF  \\\n",
       "0      9142             6             8         108         1020.0   \n",
       "\n",
       "   1st Flr SF  2nd Flr SF  Gr Liv Area  Bsmt Full Bath  Full Bath  \\\n",
       "0         908        1020         1928             0.0          2   \n",
       "\n",
       "       ...        Bsmt Qual_Ex  Bsmt Qual_Fa  Bsmt Qual_Gd  Bsmt Qual_Po  \\\n",
       "0      ...                   0             1             0             0   \n",
       "\n",
       "   Bsmt Qual_TA  Kitchen Qual_Fa  Kitchen Qual_Gd  Kitchen Qual_Po  \\\n",
       "0             0                1                0                0   \n",
       "\n",
       "   Kitchen Qual_TA      SalePrice  \n",
       "0                0  188051.432652  \n",
       "\n",
       "[1 rows x 25 columns]"
      ]
     },
     "execution_count": 98,
     "metadata": {},
     "output_type": "execute_result"
    }
   ],
   "source": [
    "X1.head(1)"
   ]
  },
  {
   "cell_type": "code",
   "execution_count": 99,
   "metadata": {},
   "outputs": [],
   "source": [
    "X1['Id'] = df_test['Id']"
   ]
  },
  {
   "cell_type": "code",
   "execution_count": 100,
   "metadata": {},
   "outputs": [
    {
     "data": {
      "text/html": [
       "<div>\n",
       "<style scoped>\n",
       "    .dataframe tbody tr th:only-of-type {\n",
       "        vertical-align: middle;\n",
       "    }\n",
       "\n",
       "    .dataframe tbody tr th {\n",
       "        vertical-align: top;\n",
       "    }\n",
       "\n",
       "    .dataframe thead th {\n",
       "        text-align: right;\n",
       "    }\n",
       "</style>\n",
       "<table border=\"1\" class=\"dataframe\">\n",
       "  <thead>\n",
       "    <tr style=\"text-align: right;\">\n",
       "      <th></th>\n",
       "      <th>Lot Area</th>\n",
       "      <th>Overall Qual</th>\n",
       "      <th>Overall Cond</th>\n",
       "      <th>Year Built</th>\n",
       "      <th>Total Bsmt SF</th>\n",
       "      <th>1st Flr SF</th>\n",
       "      <th>2nd Flr SF</th>\n",
       "      <th>Gr Liv Area</th>\n",
       "      <th>Bsmt Full Bath</th>\n",
       "      <th>Full Bath</th>\n",
       "      <th>...</th>\n",
       "      <th>Bsmt Qual_Fa</th>\n",
       "      <th>Bsmt Qual_Gd</th>\n",
       "      <th>Bsmt Qual_Po</th>\n",
       "      <th>Bsmt Qual_TA</th>\n",
       "      <th>Kitchen Qual_Fa</th>\n",
       "      <th>Kitchen Qual_Gd</th>\n",
       "      <th>Kitchen Qual_Po</th>\n",
       "      <th>Kitchen Qual_TA</th>\n",
       "      <th>SalePrice</th>\n",
       "      <th>Id</th>\n",
       "    </tr>\n",
       "  </thead>\n",
       "  <tbody>\n",
       "    <tr>\n",
       "      <th>0</th>\n",
       "      <td>9142</td>\n",
       "      <td>6</td>\n",
       "      <td>8</td>\n",
       "      <td>108</td>\n",
       "      <td>1020.0</td>\n",
       "      <td>908</td>\n",
       "      <td>1020</td>\n",
       "      <td>1928</td>\n",
       "      <td>0.0</td>\n",
       "      <td>2</td>\n",
       "      <td>...</td>\n",
       "      <td>1</td>\n",
       "      <td>0</td>\n",
       "      <td>0</td>\n",
       "      <td>0</td>\n",
       "      <td>1</td>\n",
       "      <td>0</td>\n",
       "      <td>0</td>\n",
       "      <td>0</td>\n",
       "      <td>188051.432652</td>\n",
       "      <td>2658</td>\n",
       "    </tr>\n",
       "  </tbody>\n",
       "</table>\n",
       "<p>1 rows × 26 columns</p>\n",
       "</div>"
      ],
      "text/plain": [
       "   Lot Area  Overall Qual  Overall Cond  Year Built  Total Bsmt SF  \\\n",
       "0      9142             6             8         108         1020.0   \n",
       "\n",
       "   1st Flr SF  2nd Flr SF  Gr Liv Area  Bsmt Full Bath  Full Bath  ...   \\\n",
       "0         908        1020         1928             0.0          2  ...    \n",
       "\n",
       "   Bsmt Qual_Fa  Bsmt Qual_Gd  Bsmt Qual_Po  Bsmt Qual_TA  Kitchen Qual_Fa  \\\n",
       "0             1             0             0             0                1   \n",
       "\n",
       "   Kitchen Qual_Gd  Kitchen Qual_Po  Kitchen Qual_TA      SalePrice    Id  \n",
       "0                0                0                0  188051.432652  2658  \n",
       "\n",
       "[1 rows x 26 columns]"
      ]
     },
     "execution_count": 100,
     "metadata": {},
     "output_type": "execute_result"
    }
   ],
   "source": [
    "X1.head(1)"
   ]
  },
  {
   "cell_type": "code",
   "execution_count": 101,
   "metadata": {},
   "outputs": [],
   "source": [
    "X1 = X1.set_index('Id')\n",
    "\n",
    "X1 = X1[['SalePrice']]"
   ]
  },
  {
   "cell_type": "code",
   "execution_count": 102,
   "metadata": {
    "scrolled": true
   },
   "outputs": [
    {
     "data": {
      "text/html": [
       "<div>\n",
       "<style scoped>\n",
       "    .dataframe tbody tr th:only-of-type {\n",
       "        vertical-align: middle;\n",
       "    }\n",
       "\n",
       "    .dataframe tbody tr th {\n",
       "        vertical-align: top;\n",
       "    }\n",
       "\n",
       "    .dataframe thead th {\n",
       "        text-align: right;\n",
       "    }\n",
       "</style>\n",
       "<table border=\"1\" class=\"dataframe\">\n",
       "  <thead>\n",
       "    <tr style=\"text-align: right;\">\n",
       "      <th></th>\n",
       "      <th>SalePrice</th>\n",
       "    </tr>\n",
       "    <tr>\n",
       "      <th>Id</th>\n",
       "      <th></th>\n",
       "    </tr>\n",
       "  </thead>\n",
       "  <tbody>\n",
       "    <tr>\n",
       "      <th>2658</th>\n",
       "      <td>188051.432652</td>\n",
       "    </tr>\n",
       "    <tr>\n",
       "      <th>2718</th>\n",
       "      <td>219235.708182</td>\n",
       "    </tr>\n",
       "    <tr>\n",
       "      <th>2414</th>\n",
       "      <td>199407.752383</td>\n",
       "    </tr>\n",
       "    <tr>\n",
       "      <th>1989</th>\n",
       "      <td>142426.499587</td>\n",
       "    </tr>\n",
       "    <tr>\n",
       "      <th>625</th>\n",
       "      <td>217764.424680</td>\n",
       "    </tr>\n",
       "  </tbody>\n",
       "</table>\n",
       "</div>"
      ],
      "text/plain": [
       "          SalePrice\n",
       "Id                 \n",
       "2658  188051.432652\n",
       "2718  219235.708182\n",
       "2414  199407.752383\n",
       "1989  142426.499587\n",
       "625   217764.424680"
      ]
     },
     "execution_count": 102,
     "metadata": {},
     "output_type": "execute_result"
    }
   ],
   "source": [
    "X1.head()"
   ]
  },
  {
   "cell_type": "code",
   "execution_count": 103,
   "metadata": {},
   "outputs": [],
   "source": [
    "X1.to_csv('submission7_reg_brian_collins.csv')"
   ]
  },
  {
   "cell_type": "code",
   "execution_count": null,
   "metadata": {},
   "outputs": [],
   "source": []
  }
 ],
 "metadata": {
  "kernelspec": {
   "display_name": "Python [conda env:anaconda3]",
   "language": "python",
   "name": "conda-env-anaconda3-py"
  },
  "language_info": {
   "codemirror_mode": {
    "name": "ipython",
    "version": 3
   },
   "file_extension": ".py",
   "mimetype": "text/x-python",
   "name": "python",
   "nbconvert_exporter": "python",
   "pygments_lexer": "ipython3",
   "version": "3.6.4"
  }
 },
 "nbformat": 4,
 "nbformat_minor": 2
}
