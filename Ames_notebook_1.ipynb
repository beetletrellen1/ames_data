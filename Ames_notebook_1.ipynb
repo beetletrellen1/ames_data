{
 "cells": [
  {
   "cell_type": "markdown",
   "metadata": {},
   "source": [
    "### Modeling Notebook for Ames, Iowa Housing data. \n",
    "\n",
    "### Purpose of notebook is to best predict sale price for homes using multiple features.  \n",
    "\n",
    "### Question looking to be answered is, \"does using data from Ames Iowa, can we construct a model that will be flexible enough to guide home purchases based on specific housing characteristics?\""
   ]
  },
  {
   "cell_type": "code",
   "execution_count": 1,
   "metadata": {},
   "outputs": [],
   "source": [
    "import pandas as pd\n",
    "import numpy as np\n",
    "import seaborn as sns\n",
    "import matplotlib.pyplot as plt\n",
    "\n",
    "from sklearn.linear_model import LinearRegression\n",
    "from sklearn.model_selection import train_test_split, KFold, cross_val_score\n",
    "from sklearn.preprocessing import PolynomialFeatures, StandardScaler"
   ]
  },
  {
   "cell_type": "code",
   "execution_count": 3,
   "metadata": {},
   "outputs": [
    {
     "data": {
      "text/html": [
       "<div>\n",
       "<style scoped>\n",
       "    .dataframe tbody tr th:only-of-type {\n",
       "        vertical-align: middle;\n",
       "    }\n",
       "\n",
       "    .dataframe tbody tr th {\n",
       "        vertical-align: top;\n",
       "    }\n",
       "\n",
       "    .dataframe thead th {\n",
       "        text-align: right;\n",
       "    }\n",
       "</style>\n",
       "<table border=\"1\" class=\"dataframe\">\n",
       "  <thead>\n",
       "    <tr style=\"text-align: right;\">\n",
       "      <th></th>\n",
       "      <th>PID</th>\n",
       "      <th>MS SubClass</th>\n",
       "      <th>MS Zoning</th>\n",
       "      <th>Lot Frontage</th>\n",
       "      <th>Lot Area</th>\n",
       "      <th>Street</th>\n",
       "      <th>Alley</th>\n",
       "      <th>Lot Shape</th>\n",
       "      <th>Land Contour</th>\n",
       "      <th>Utilities</th>\n",
       "      <th>...</th>\n",
       "      <th>Screen Porch</th>\n",
       "      <th>Pool Area</th>\n",
       "      <th>Pool QC</th>\n",
       "      <th>Fence</th>\n",
       "      <th>Misc Feature</th>\n",
       "      <th>Misc Val</th>\n",
       "      <th>Mo Sold</th>\n",
       "      <th>Yr Sold</th>\n",
       "      <th>Sale Type</th>\n",
       "      <th>SalePrice</th>\n",
       "    </tr>\n",
       "    <tr>\n",
       "      <th>Id</th>\n",
       "      <th></th>\n",
       "      <th></th>\n",
       "      <th></th>\n",
       "      <th></th>\n",
       "      <th></th>\n",
       "      <th></th>\n",
       "      <th></th>\n",
       "      <th></th>\n",
       "      <th></th>\n",
       "      <th></th>\n",
       "      <th></th>\n",
       "      <th></th>\n",
       "      <th></th>\n",
       "      <th></th>\n",
       "      <th></th>\n",
       "      <th></th>\n",
       "      <th></th>\n",
       "      <th></th>\n",
       "      <th></th>\n",
       "      <th></th>\n",
       "      <th></th>\n",
       "    </tr>\n",
       "  </thead>\n",
       "  <tbody>\n",
       "    <tr>\n",
       "      <th>109</th>\n",
       "      <td>533352170</td>\n",
       "      <td>60</td>\n",
       "      <td>RL</td>\n",
       "      <td>NaN</td>\n",
       "      <td>13517</td>\n",
       "      <td>Pave</td>\n",
       "      <td>NaN</td>\n",
       "      <td>IR1</td>\n",
       "      <td>Lvl</td>\n",
       "      <td>AllPub</td>\n",
       "      <td>...</td>\n",
       "      <td>0</td>\n",
       "      <td>0</td>\n",
       "      <td>NaN</td>\n",
       "      <td>NaN</td>\n",
       "      <td>NaN</td>\n",
       "      <td>0</td>\n",
       "      <td>3</td>\n",
       "      <td>2010</td>\n",
       "      <td>WD</td>\n",
       "      <td>130500</td>\n",
       "    </tr>\n",
       "  </tbody>\n",
       "</table>\n",
       "<p>1 rows × 80 columns</p>\n",
       "</div>"
      ],
      "text/plain": [
       "           PID  MS SubClass MS Zoning  Lot Frontage  Lot Area Street Alley  \\\n",
       "Id                                                                           \n",
       "109  533352170           60        RL           NaN     13517   Pave   NaN   \n",
       "\n",
       "    Lot Shape Land Contour Utilities    ...     Screen Porch Pool Area  \\\n",
       "Id                                      ...                              \n",
       "109       IR1          Lvl    AllPub    ...                0         0   \n",
       "\n",
       "    Pool QC Fence Misc Feature Misc Val Mo Sold  Yr Sold  Sale Type  SalePrice  \n",
       "Id                                                                              \n",
       "109     NaN   NaN          NaN        0       3     2010        WD      130500  \n",
       "\n",
       "[1 rows x 80 columns]"
      ]
     },
     "execution_count": 3,
     "metadata": {},
     "output_type": "execute_result"
    }
   ],
   "source": [
    "df = pd.read_csv('./train.csv', index_col=\"Id\")\n",
    "df.head(1)"
   ]
  },
  {
   "cell_type": "code",
   "execution_count": 4,
   "metadata": {},
   "outputs": [],
   "source": [
    "\"\"\"Setting up features and target variable.  Chosing these specific items from a large list is to\n",
    "    characterize what I believe based on prior knowledge to be primary factors in housing purchases.\n",
    "    I understand that plenty more characteristics will play into a better fit, but the goal here\n",
    "    is to quantify these primary features first with a high bias and create a more balanced model\n",
    "    over time.\n",
    "    \"\"\"\n",
    "X = df[['Total Bsmt SF', '1st Flr SF', '2nd Flr SF', 'Overall Qual']]\n",
    "y = df['SalePrice']"
   ]
  },
  {
   "cell_type": "code",
   "execution_count": 5,
   "metadata": {},
   "outputs": [
    {
     "data": {
      "text/plain": [
       "Total Bsmt SF    1\n",
       "1st Flr SF       0\n",
       "2nd Flr SF       0\n",
       "Overall Qual     0\n",
       "dtype: int64"
      ]
     },
     "execution_count": 5,
     "metadata": {},
     "output_type": "execute_result"
    }
   ],
   "source": [
    "# Discovering the null values within Data set\n",
    "X.isnull().sum()"
   ]
  },
  {
   "cell_type": "code",
   "execution_count": 6,
   "metadata": {},
   "outputs": [],
   "source": [
    "# instead of removing data, I will be filling the few null values with zeros.\n",
    "X = X.fillna(0)"
   ]
  },
  {
   "cell_type": "code",
   "execution_count": 7,
   "metadata": {},
   "outputs": [
    {
     "data": {
      "text/plain": [
       "(2051, 4)"
      ]
     },
     "execution_count": 7,
     "metadata": {},
     "output_type": "execute_result"
    }
   ],
   "source": [
    "X.shape"
   ]
  },
  {
   "cell_type": "code",
   "execution_count": 8,
   "metadata": {},
   "outputs": [
    {
     "name": "stdout",
     "output_type": "stream",
     "text": [
      "<class 'pandas.core.frame.DataFrame'>\n",
      "Int64Index: 2051 entries, 109 to 10\n",
      "Data columns (total 5 columns):\n",
      "Total Bsmt SF    2051 non-null float64\n",
      "1st Flr SF       2051 non-null int64\n",
      "2nd Flr SF       2051 non-null int64\n",
      "Overall Qual     2051 non-null int64\n",
      "Total_sqft       2051 non-null float64\n",
      "dtypes: float64(2), int64(3)\n",
      "memory usage: 96.1 KB\n"
     ]
    }
   ],
   "source": [
    "# I believe that there is a strong interaction on the Total Square feet of a home not just specific floors.\n",
    "X['Total_sqft'] = X['Total Bsmt SF'] + X['1st Flr SF'] + X['2nd Flr SF']\n",
    "\n",
    "X.info()"
   ]
  },
  {
   "cell_type": "code",
   "execution_count": 9,
   "metadata": {
    "scrolled": true
   },
   "outputs": [
    {
     "data": {
      "text/plain": [
       "Total Bsmt SF    0\n",
       "1st Flr SF       0\n",
       "2nd Flr SF       0\n",
       "Overall Qual     0\n",
       "Total_sqft       0\n",
       "dtype: int64"
      ]
     },
     "execution_count": 9,
     "metadata": {},
     "output_type": "execute_result"
    }
   ],
   "source": [
    "X.isnull().sum() # null values by series"
   ]
  },
  {
   "cell_type": "code",
   "execution_count": 10,
   "metadata": {},
   "outputs": [],
   "source": [
    "# Specifically focusing on the Quality of the home and the Total square feet to determine sales price.\n",
    "X = X[['Total_sqft', 'Overall Qual']]"
   ]
  },
  {
   "cell_type": "code",
   "execution_count": 11,
   "metadata": {
    "scrolled": true
   },
   "outputs": [
    {
     "data": {
      "text/plain": [
       "((2051, 2), (2051,))"
      ]
     },
     "execution_count": 11,
     "metadata": {},
     "output_type": "execute_result"
    }
   ],
   "source": [
    "# Importance of verifying that a similar shape between target variables and features.\n",
    "X.shape, y.shape"
   ]
  },
  {
   "cell_type": "code",
   "execution_count": 12,
   "metadata": {},
   "outputs": [
    {
     "data": {
      "text/html": [
       "<div>\n",
       "<style scoped>\n",
       "    .dataframe tbody tr th:only-of-type {\n",
       "        vertical-align: middle;\n",
       "    }\n",
       "\n",
       "    .dataframe tbody tr th {\n",
       "        vertical-align: top;\n",
       "    }\n",
       "\n",
       "    .dataframe thead th {\n",
       "        text-align: right;\n",
       "    }\n",
       "</style>\n",
       "<table border=\"1\" class=\"dataframe\">\n",
       "  <thead>\n",
       "    <tr style=\"text-align: right;\">\n",
       "      <th></th>\n",
       "      <th>count</th>\n",
       "      <th>mean</th>\n",
       "      <th>std</th>\n",
       "      <th>min</th>\n",
       "      <th>25%</th>\n",
       "      <th>50%</th>\n",
       "      <th>75%</th>\n",
       "      <th>max</th>\n",
       "    </tr>\n",
       "  </thead>\n",
       "  <tbody>\n",
       "    <tr>\n",
       "      <th>Total_sqft</th>\n",
       "      <td>2051.0</td>\n",
       "      <td>2551.289127</td>\n",
       "      <td>809.702102</td>\n",
       "      <td>334.0</td>\n",
       "      <td>2005.5</td>\n",
       "      <td>2456.0</td>\n",
       "      <td>2994.0</td>\n",
       "      <td>11752.0</td>\n",
       "    </tr>\n",
       "    <tr>\n",
       "      <th>Overall Qual</th>\n",
       "      <td>2051.0</td>\n",
       "      <td>6.112140</td>\n",
       "      <td>1.426271</td>\n",
       "      <td>1.0</td>\n",
       "      <td>5.0</td>\n",
       "      <td>6.0</td>\n",
       "      <td>7.0</td>\n",
       "      <td>10.0</td>\n",
       "    </tr>\n",
       "  </tbody>\n",
       "</table>\n",
       "</div>"
      ],
      "text/plain": [
       "               count         mean         std    min     25%     50%     75%  \\\n",
       "Total_sqft    2051.0  2551.289127  809.702102  334.0  2005.5  2456.0  2994.0   \n",
       "Overall Qual  2051.0     6.112140    1.426271    1.0     5.0     6.0     7.0   \n",
       "\n",
       "                  max  \n",
       "Total_sqft    11752.0  \n",
       "Overall Qual     10.0  "
      ]
     },
     "execution_count": 12,
     "metadata": {},
     "output_type": "execute_result"
    }
   ],
   "source": [
    "# Current mean and standard deviations seems to be within range.  Quality is quantified 0-10 scale.\n",
    "X.describe().T"
   ]
  },
  {
   "cell_type": "code",
   "execution_count": 13,
   "metadata": {},
   "outputs": [],
   "source": [
    "# Renaming Overall Quality for easier use.\n",
    "X.rename(columns={'Overall Qual': 'Qual'}, inplace=True)"
   ]
  },
  {
   "cell_type": "code",
   "execution_count": 14,
   "metadata": {},
   "outputs": [],
   "source": [
    "# Quality will need to be dummied to and overall metrics need to be standardized.\n",
    "X = pd.get_dummies(X, columns=['Qual'], drop_first=True)"
   ]
  },
  {
   "cell_type": "code",
   "execution_count": 15,
   "metadata": {},
   "outputs": [
    {
     "data": {
      "text/html": [
       "<div>\n",
       "<style scoped>\n",
       "    .dataframe tbody tr th:only-of-type {\n",
       "        vertical-align: middle;\n",
       "    }\n",
       "\n",
       "    .dataframe tbody tr th {\n",
       "        vertical-align: top;\n",
       "    }\n",
       "\n",
       "    .dataframe thead th {\n",
       "        text-align: right;\n",
       "    }\n",
       "</style>\n",
       "<table border=\"1\" class=\"dataframe\">\n",
       "  <thead>\n",
       "    <tr style=\"text-align: right;\">\n",
       "      <th></th>\n",
       "      <th>Total_sqft</th>\n",
       "      <th>Qual_2</th>\n",
       "      <th>Qual_3</th>\n",
       "      <th>Qual_4</th>\n",
       "      <th>Qual_5</th>\n",
       "      <th>Qual_6</th>\n",
       "      <th>Qual_7</th>\n",
       "      <th>Qual_8</th>\n",
       "      <th>Qual_9</th>\n",
       "      <th>Qual_10</th>\n",
       "    </tr>\n",
       "    <tr>\n",
       "      <th>Id</th>\n",
       "      <th></th>\n",
       "      <th></th>\n",
       "      <th></th>\n",
       "      <th></th>\n",
       "      <th></th>\n",
       "      <th></th>\n",
       "      <th></th>\n",
       "      <th></th>\n",
       "      <th></th>\n",
       "      <th></th>\n",
       "    </tr>\n",
       "  </thead>\n",
       "  <tbody>\n",
       "    <tr>\n",
       "      <th>109</th>\n",
       "      <td>2204.0</td>\n",
       "      <td>0</td>\n",
       "      <td>0</td>\n",
       "      <td>0</td>\n",
       "      <td>0</td>\n",
       "      <td>1</td>\n",
       "      <td>0</td>\n",
       "      <td>0</td>\n",
       "      <td>0</td>\n",
       "      <td>0</td>\n",
       "    </tr>\n",
       "    <tr>\n",
       "      <th>544</th>\n",
       "      <td>3035.0</td>\n",
       "      <td>0</td>\n",
       "      <td>0</td>\n",
       "      <td>0</td>\n",
       "      <td>0</td>\n",
       "      <td>0</td>\n",
       "      <td>1</td>\n",
       "      <td>0</td>\n",
       "      <td>0</td>\n",
       "      <td>0</td>\n",
       "    </tr>\n",
       "  </tbody>\n",
       "</table>\n",
       "</div>"
      ],
      "text/plain": [
       "     Total_sqft  Qual_2  Qual_3  Qual_4  Qual_5  Qual_6  Qual_7  Qual_8  \\\n",
       "Id                                                                        \n",
       "109      2204.0       0       0       0       0       1       0       0   \n",
       "544      3035.0       0       0       0       0       0       1       0   \n",
       "\n",
       "     Qual_9  Qual_10  \n",
       "Id                    \n",
       "109       0        0  \n",
       "544       0        0  "
      ]
     },
     "execution_count": 15,
     "metadata": {},
     "output_type": "execute_result"
    }
   ],
   "source": [
    "X.head(2)"
   ]
  },
  {
   "cell_type": "code",
   "execution_count": 16,
   "metadata": {},
   "outputs": [],
   "source": [
    "# Importance of train and testing data to ensure success.\n",
    "X_train, X_test, y_train, y_test = train_test_split(X, y, random_state=1)"
   ]
  },
  {
   "cell_type": "code",
   "execution_count": 17,
   "metadata": {},
   "outputs": [
    {
     "name": "stdout",
     "output_type": "stream",
     "text": [
      "<class 'pandas.core.frame.DataFrame'>\n",
      "Int64Index: 1538 entries, 1993 to 2160\n",
      "Data columns (total 10 columns):\n",
      "Total_sqft    1538 non-null float64\n",
      "Qual_2        1538 non-null uint8\n",
      "Qual_3        1538 non-null uint8\n",
      "Qual_4        1538 non-null uint8\n",
      "Qual_5        1538 non-null uint8\n",
      "Qual_6        1538 non-null uint8\n",
      "Qual_7        1538 non-null uint8\n",
      "Qual_8        1538 non-null uint8\n",
      "Qual_9        1538 non-null uint8\n",
      "Qual_10       1538 non-null uint8\n",
      "dtypes: float64(1), uint8(9)\n",
      "memory usage: 37.5 KB\n"
     ]
    }
   ],
   "source": [
    "X_train.info()"
   ]
  },
  {
   "cell_type": "code",
   "execution_count": 18,
   "metadata": {},
   "outputs": [
    {
     "data": {
      "text/plain": [
       "((1538, 10), (513, 10))"
      ]
     },
     "execution_count": 18,
     "metadata": {},
     "output_type": "execute_result"
    }
   ],
   "source": [
    "# Analysis to ensure the data has not adjusted since we set up the training data.\n",
    "X_train.shape, X_test.shape"
   ]
  },
  {
   "cell_type": "code",
   "execution_count": 19,
   "metadata": {
    "scrolled": true
   },
   "outputs": [
    {
     "data": {
      "text/html": [
       "<div>\n",
       "<style scoped>\n",
       "    .dataframe tbody tr th:only-of-type {\n",
       "        vertical-align: middle;\n",
       "    }\n",
       "\n",
       "    .dataframe tbody tr th {\n",
       "        vertical-align: top;\n",
       "    }\n",
       "\n",
       "    .dataframe thead th {\n",
       "        text-align: right;\n",
       "    }\n",
       "</style>\n",
       "<table border=\"1\" class=\"dataframe\">\n",
       "  <thead>\n",
       "    <tr style=\"text-align: right;\">\n",
       "      <th></th>\n",
       "      <th>Total_sqft</th>\n",
       "      <th>Qual_2</th>\n",
       "      <th>Qual_3</th>\n",
       "      <th>Qual_4</th>\n",
       "      <th>Qual_5</th>\n",
       "      <th>Qual_6</th>\n",
       "      <th>Qual_7</th>\n",
       "      <th>Qual_8</th>\n",
       "      <th>Qual_9</th>\n",
       "      <th>Qual_10</th>\n",
       "    </tr>\n",
       "    <tr>\n",
       "      <th>Id</th>\n",
       "      <th></th>\n",
       "      <th></th>\n",
       "      <th></th>\n",
       "      <th></th>\n",
       "      <th></th>\n",
       "      <th></th>\n",
       "      <th></th>\n",
       "      <th></th>\n",
       "      <th></th>\n",
       "      <th></th>\n",
       "    </tr>\n",
       "  </thead>\n",
       "  <tbody>\n",
       "    <tr>\n",
       "      <th>1993</th>\n",
       "      <td>1848.0</td>\n",
       "      <td>0</td>\n",
       "      <td>0</td>\n",
       "      <td>0</td>\n",
       "      <td>1</td>\n",
       "      <td>0</td>\n",
       "      <td>0</td>\n",
       "      <td>0</td>\n",
       "      <td>0</td>\n",
       "      <td>0</td>\n",
       "    </tr>\n",
       "    <tr>\n",
       "      <th>2911</th>\n",
       "      <td>3463.0</td>\n",
       "      <td>0</td>\n",
       "      <td>0</td>\n",
       "      <td>0</td>\n",
       "      <td>0</td>\n",
       "      <td>1</td>\n",
       "      <td>0</td>\n",
       "      <td>0</td>\n",
       "      <td>0</td>\n",
       "      <td>0</td>\n",
       "    </tr>\n",
       "  </tbody>\n",
       "</table>\n",
       "</div>"
      ],
      "text/plain": [
       "      Total_sqft  Qual_2  Qual_3  Qual_4  Qual_5  Qual_6  Qual_7  Qual_8  \\\n",
       "Id                                                                         \n",
       "1993      1848.0       0       0       0       1       0       0       0   \n",
       "2911      3463.0       0       0       0       0       1       0       0   \n",
       "\n",
       "      Qual_9  Qual_10  \n",
       "Id                     \n",
       "1993       0        0  \n",
       "2911       0        0  "
      ]
     },
     "execution_count": 19,
     "metadata": {},
     "output_type": "execute_result"
    }
   ],
   "source": [
    "X_train.head(2)"
   ]
  },
  {
   "cell_type": "code",
   "execution_count": 20,
   "metadata": {},
   "outputs": [],
   "source": [
    "# Standardizing the scales so that the dummies can be counted similarly to the total sqft\n",
    "ss = StandardScaler()\n",
    "X_tr_scaled = ss.fit_transform(X_train)\n",
    "X_te_scaled = ss.transform(X_test)"
   ]
  },
  {
   "cell_type": "code",
   "execution_count": 21,
   "metadata": {},
   "outputs": [
    {
     "name": "stdout",
     "output_type": "stream",
     "text": [
      "CV Score over five folds: [0.82676423 0.713936   0.79354674 0.83860069 0.67610974]\n",
      "CV Score mean: 0.769791480894316\n"
     ]
    }
   ],
   "source": [
    "# Using a LinearRegression as our first model.\n",
    "lr = LinearRegression()\n",
    "\n",
    "print('CV Score over five folds:', cross_val_score(lr, X_tr_scaled, y_train, cv=5))\n",
    "\n",
    "print('CV Score mean:', cross_val_score(lr, X_tr_scaled, y_train, cv=5).mean())"
   ]
  },
  {
   "cell_type": "code",
   "execution_count": 22,
   "metadata": {},
   "outputs": [
    {
     "data": {
      "text/plain": [
       "0.7861765880995701"
      ]
     },
     "execution_count": 22,
     "metadata": {},
     "output_type": "execute_result"
    }
   ],
   "source": [
    "# setting up the training data tests\n",
    "lr = LinearRegression()\n",
    "lr.fit(X_tr_scaled, y_train)\n",
    "lr.score(X_tr_scaled, y_train)"
   ]
  },
  {
   "cell_type": "code",
   "execution_count": 23,
   "metadata": {},
   "outputs": [
    {
     "data": {
      "text/plain": [
       "0.8061593810337211"
      ]
     },
     "execution_count": 23,
     "metadata": {},
     "output_type": "execute_result"
    }
   ],
   "source": [
    "# R2 score for my test subjects based on the metrics.\n",
    "lr.score(X_te_scaled, y_test)"
   ]
  },
  {
   "cell_type": "markdown",
   "metadata": {},
   "source": [
    "## Bringing in the Kaggle Test data\n",
    "\n",
    "### Setting the Parameters to match those of the Training Data"
   ]
  },
  {
   "cell_type": "code",
   "execution_count": 25,
   "metadata": {},
   "outputs": [
    {
     "data": {
      "text/plain": [
       "(879, 80)"
      ]
     },
     "execution_count": 25,
     "metadata": {},
     "output_type": "execute_result"
    }
   ],
   "source": [
    "# Bringing in the data for actual Test.\n",
    "df_test = pd.read_csv('./test.csv')\n",
    "\n",
    "df_test.shape"
   ]
  },
  {
   "cell_type": "code",
   "execution_count": 26,
   "metadata": {},
   "outputs": [],
   "source": [
    "X1 = df_test[['Total Bsmt SF', '1st Flr SF', '2nd Flr SF', 'Overall Qual']]\n",
    "\n",
    "X1 = X1.fillna(0)"
   ]
  },
  {
   "cell_type": "code",
   "execution_count": 27,
   "metadata": {},
   "outputs": [
    {
     "name": "stdout",
     "output_type": "stream",
     "text": [
      "<class 'pandas.core.frame.DataFrame'>\n",
      "RangeIndex: 879 entries, 0 to 878\n",
      "Data columns (total 5 columns):\n",
      "Total Bsmt SF    879 non-null float64\n",
      "1st Flr SF       879 non-null int64\n",
      "2nd Flr SF       879 non-null int64\n",
      "Overall Qual     879 non-null int64\n",
      "Total_sqft       879 non-null float64\n",
      "dtypes: float64(2), int64(3)\n",
      "memory usage: 34.4 KB\n"
     ]
    }
   ],
   "source": [
    "X1['Total_sqft'] = X1['Total Bsmt SF'] + X1['1st Flr SF'] + X1['2nd Flr SF']\n",
    "\n",
    "X1.info()"
   ]
  },
  {
   "cell_type": "code",
   "execution_count": 28,
   "metadata": {},
   "outputs": [
    {
     "data": {
      "text/html": [
       "<div>\n",
       "<style scoped>\n",
       "    .dataframe tbody tr th:only-of-type {\n",
       "        vertical-align: middle;\n",
       "    }\n",
       "\n",
       "    .dataframe tbody tr th {\n",
       "        vertical-align: top;\n",
       "    }\n",
       "\n",
       "    .dataframe thead th {\n",
       "        text-align: right;\n",
       "    }\n",
       "</style>\n",
       "<table border=\"1\" class=\"dataframe\">\n",
       "  <thead>\n",
       "    <tr style=\"text-align: right;\">\n",
       "      <th></th>\n",
       "      <th>Total_sqft</th>\n",
       "      <th>Overall Qual</th>\n",
       "    </tr>\n",
       "  </thead>\n",
       "  <tbody>\n",
       "    <tr>\n",
       "      <th>0</th>\n",
       "      <td>2948.0</td>\n",
       "      <td>6</td>\n",
       "    </tr>\n",
       "    <tr>\n",
       "      <th>1</th>\n",
       "      <td>3934.0</td>\n",
       "      <td>5</td>\n",
       "    </tr>\n",
       "    <tr>\n",
       "      <th>2</th>\n",
       "      <td>2150.0</td>\n",
       "      <td>7</td>\n",
       "    </tr>\n",
       "    <tr>\n",
       "      <th>3</th>\n",
       "      <td>1936.0</td>\n",
       "      <td>5</td>\n",
       "    </tr>\n",
       "    <tr>\n",
       "      <th>4</th>\n",
       "      <td>2788.0</td>\n",
       "      <td>6</td>\n",
       "    </tr>\n",
       "  </tbody>\n",
       "</table>\n",
       "</div>"
      ],
      "text/plain": [
       "   Total_sqft  Overall Qual\n",
       "0      2948.0             6\n",
       "1      3934.0             5\n",
       "2      2150.0             7\n",
       "3      1936.0             5\n",
       "4      2788.0             6"
      ]
     },
     "execution_count": 28,
     "metadata": {},
     "output_type": "execute_result"
    }
   ],
   "source": [
    "X1 = X1[['Total_sqft', 'Overall Qual']]\n",
    "\n",
    "X1.head()"
   ]
  },
  {
   "cell_type": "code",
   "execution_count": 29,
   "metadata": {},
   "outputs": [
    {
     "data": {
      "text/html": [
       "<div>\n",
       "<style scoped>\n",
       "    .dataframe tbody tr th:only-of-type {\n",
       "        vertical-align: middle;\n",
       "    }\n",
       "\n",
       "    .dataframe tbody tr th {\n",
       "        vertical-align: top;\n",
       "    }\n",
       "\n",
       "    .dataframe thead th {\n",
       "        text-align: right;\n",
       "    }\n",
       "</style>\n",
       "<table border=\"1\" class=\"dataframe\">\n",
       "  <thead>\n",
       "    <tr style=\"text-align: right;\">\n",
       "      <th></th>\n",
       "      <th>Total_sqft</th>\n",
       "      <th>Qual_2</th>\n",
       "      <th>Qual_3</th>\n",
       "      <th>Qual_4</th>\n",
       "      <th>Qual_5</th>\n",
       "      <th>Qual_6</th>\n",
       "      <th>Qual_7</th>\n",
       "      <th>Qual_8</th>\n",
       "      <th>Qual_9</th>\n",
       "      <th>Qual_10</th>\n",
       "    </tr>\n",
       "  </thead>\n",
       "  <tbody>\n",
       "    <tr>\n",
       "      <th>0</th>\n",
       "      <td>2948.0</td>\n",
       "      <td>0</td>\n",
       "      <td>0</td>\n",
       "      <td>0</td>\n",
       "      <td>0</td>\n",
       "      <td>1</td>\n",
       "      <td>0</td>\n",
       "      <td>0</td>\n",
       "      <td>0</td>\n",
       "      <td>0</td>\n",
       "    </tr>\n",
       "    <tr>\n",
       "      <th>1</th>\n",
       "      <td>3934.0</td>\n",
       "      <td>0</td>\n",
       "      <td>0</td>\n",
       "      <td>0</td>\n",
       "      <td>1</td>\n",
       "      <td>0</td>\n",
       "      <td>0</td>\n",
       "      <td>0</td>\n",
       "      <td>0</td>\n",
       "      <td>0</td>\n",
       "    </tr>\n",
       "    <tr>\n",
       "      <th>2</th>\n",
       "      <td>2150.0</td>\n",
       "      <td>0</td>\n",
       "      <td>0</td>\n",
       "      <td>0</td>\n",
       "      <td>0</td>\n",
       "      <td>0</td>\n",
       "      <td>1</td>\n",
       "      <td>0</td>\n",
       "      <td>0</td>\n",
       "      <td>0</td>\n",
       "    </tr>\n",
       "    <tr>\n",
       "      <th>3</th>\n",
       "      <td>1936.0</td>\n",
       "      <td>0</td>\n",
       "      <td>0</td>\n",
       "      <td>0</td>\n",
       "      <td>1</td>\n",
       "      <td>0</td>\n",
       "      <td>0</td>\n",
       "      <td>0</td>\n",
       "      <td>0</td>\n",
       "      <td>0</td>\n",
       "    </tr>\n",
       "    <tr>\n",
       "      <th>4</th>\n",
       "      <td>2788.0</td>\n",
       "      <td>0</td>\n",
       "      <td>0</td>\n",
       "      <td>0</td>\n",
       "      <td>0</td>\n",
       "      <td>1</td>\n",
       "      <td>0</td>\n",
       "      <td>0</td>\n",
       "      <td>0</td>\n",
       "      <td>0</td>\n",
       "    </tr>\n",
       "  </tbody>\n",
       "</table>\n",
       "</div>"
      ],
      "text/plain": [
       "   Total_sqft  Qual_2  Qual_3  Qual_4  Qual_5  Qual_6  Qual_7  Qual_8  Qual_9  \\\n",
       "0      2948.0       0       0       0       0       1       0       0       0   \n",
       "1      3934.0       0       0       0       1       0       0       0       0   \n",
       "2      2150.0       0       0       0       0       0       1       0       0   \n",
       "3      1936.0       0       0       0       1       0       0       0       0   \n",
       "4      2788.0       0       0       0       0       1       0       0       0   \n",
       "\n",
       "   Qual_10  \n",
       "0        0  \n",
       "1        0  \n",
       "2        0  \n",
       "3        0  \n",
       "4        0  "
      ]
     },
     "execution_count": 29,
     "metadata": {},
     "output_type": "execute_result"
    }
   ],
   "source": [
    "X1.rename(columns={'Overall Qual': 'Qual'}, inplace=True)\n",
    "\n",
    "X1 = pd.get_dummies(X1, columns=['Qual'])\n",
    "\n",
    "X1.head()"
   ]
  },
  {
   "cell_type": "markdown",
   "metadata": {},
   "source": [
    "### Applying the model to the Data"
   ]
  },
  {
   "cell_type": "code",
   "execution_count": 30,
   "metadata": {},
   "outputs": [],
   "source": [
    "X1_scaled = ss.transform(X1)"
   ]
  },
  {
   "cell_type": "code",
   "execution_count": 31,
   "metadata": {},
   "outputs": [
    {
     "data": {
      "text/plain": [
       "((879,), (879, 10))"
      ]
     },
     "execution_count": 31,
     "metadata": {},
     "output_type": "execute_result"
    }
   ],
   "source": [
    "predicted = lr.predict(X1_scaled)\n",
    "\n",
    "predicted.shape, X1_scaled.shape"
   ]
  },
  {
   "cell_type": "code",
   "execution_count": 32,
   "metadata": {},
   "outputs": [
    {
     "data": {
      "text/html": [
       "<div>\n",
       "<style scoped>\n",
       "    .dataframe tbody tr th:only-of-type {\n",
       "        vertical-align: middle;\n",
       "    }\n",
       "\n",
       "    .dataframe tbody tr th {\n",
       "        vertical-align: top;\n",
       "    }\n",
       "\n",
       "    .dataframe thead th {\n",
       "        text-align: right;\n",
       "    }\n",
       "</style>\n",
       "<table border=\"1\" class=\"dataframe\">\n",
       "  <thead>\n",
       "    <tr style=\"text-align: right;\">\n",
       "      <th></th>\n",
       "      <th>Total_sqft</th>\n",
       "      <th>Qual_2</th>\n",
       "      <th>Qual_3</th>\n",
       "      <th>Qual_4</th>\n",
       "      <th>Qual_5</th>\n",
       "      <th>Qual_6</th>\n",
       "      <th>Qual_7</th>\n",
       "      <th>Qual_8</th>\n",
       "      <th>Qual_9</th>\n",
       "      <th>Qual_10</th>\n",
       "      <th>SalePrice</th>\n",
       "      <th>Id</th>\n",
       "    </tr>\n",
       "  </thead>\n",
       "  <tbody>\n",
       "    <tr>\n",
       "      <th>0</th>\n",
       "      <td>0.486583</td>\n",
       "      <td>-0.067618</td>\n",
       "      <td>-0.108821</td>\n",
       "      <td>-0.290906</td>\n",
       "      <td>-0.613924</td>\n",
       "      <td>1.739591</td>\n",
       "      <td>-0.520648</td>\n",
       "      <td>-0.37091</td>\n",
       "      <td>-0.190757</td>\n",
       "      <td>-0.108821</td>\n",
       "      <td>181612.819318</td>\n",
       "      <td>2658</td>\n",
       "    </tr>\n",
       "    <tr>\n",
       "      <th>1</th>\n",
       "      <td>1.694478</td>\n",
       "      <td>-0.067618</td>\n",
       "      <td>-0.108821</td>\n",
       "      <td>-0.290906</td>\n",
       "      <td>1.628867</td>\n",
       "      <td>-0.574848</td>\n",
       "      <td>-0.520648</td>\n",
       "      <td>-0.37091</td>\n",
       "      <td>-0.190757</td>\n",
       "      <td>-0.108821</td>\n",
       "      <td>199190.685279</td>\n",
       "      <td>2718</td>\n",
       "    </tr>\n",
       "    <tr>\n",
       "      <th>2</th>\n",
       "      <td>-0.491002</td>\n",
       "      <td>-0.067618</td>\n",
       "      <td>-0.108821</td>\n",
       "      <td>-0.290906</td>\n",
       "      <td>-0.613924</td>\n",
       "      <td>-0.574848</td>\n",
       "      <td>1.920683</td>\n",
       "      <td>-0.37091</td>\n",
       "      <td>-0.190757</td>\n",
       "      <td>-0.108821</td>\n",
       "      <td>182571.362478</td>\n",
       "      <td>2414</td>\n",
       "    </tr>\n",
       "    <tr>\n",
       "      <th>3</th>\n",
       "      <td>-0.753162</td>\n",
       "      <td>-0.067618</td>\n",
       "      <td>-0.108821</td>\n",
       "      <td>-0.290906</td>\n",
       "      <td>1.628867</td>\n",
       "      <td>-0.574848</td>\n",
       "      <td>-0.520648</td>\n",
       "      <td>-0.37091</td>\n",
       "      <td>-0.190757</td>\n",
       "      <td>-0.108821</td>\n",
       "      <td>125917.917917</td>\n",
       "      <td>1989</td>\n",
       "    </tr>\n",
       "    <tr>\n",
       "      <th>4</th>\n",
       "      <td>0.290576</td>\n",
       "      <td>-0.067618</td>\n",
       "      <td>-0.108821</td>\n",
       "      <td>-0.290906</td>\n",
       "      <td>-0.613924</td>\n",
       "      <td>1.739591</td>\n",
       "      <td>-0.520648</td>\n",
       "      <td>-0.37091</td>\n",
       "      <td>-0.190757</td>\n",
       "      <td>-0.108821</td>\n",
       "      <td>175745.130240</td>\n",
       "      <td>625</td>\n",
       "    </tr>\n",
       "  </tbody>\n",
       "</table>\n",
       "</div>"
      ],
      "text/plain": [
       "   Total_sqft    Qual_2    Qual_3    Qual_4    Qual_5    Qual_6    Qual_7  \\\n",
       "0    0.486583 -0.067618 -0.108821 -0.290906 -0.613924  1.739591 -0.520648   \n",
       "1    1.694478 -0.067618 -0.108821 -0.290906  1.628867 -0.574848 -0.520648   \n",
       "2   -0.491002 -0.067618 -0.108821 -0.290906 -0.613924 -0.574848  1.920683   \n",
       "3   -0.753162 -0.067618 -0.108821 -0.290906  1.628867 -0.574848 -0.520648   \n",
       "4    0.290576 -0.067618 -0.108821 -0.290906 -0.613924  1.739591 -0.520648   \n",
       "\n",
       "    Qual_8    Qual_9   Qual_10      SalePrice    Id  \n",
       "0 -0.37091 -0.190757 -0.108821  181612.819318  2658  \n",
       "1 -0.37091 -0.190757 -0.108821  199190.685279  2718  \n",
       "2 -0.37091 -0.190757 -0.108821  182571.362478  2414  \n",
       "3 -0.37091 -0.190757 -0.108821  125917.917917  1989  \n",
       "4 -0.37091 -0.190757 -0.108821  175745.130240   625  "
      ]
     },
     "execution_count": 32,
     "metadata": {},
     "output_type": "execute_result"
    }
   ],
   "source": [
    "# the data was an array and needed to be converted back to a panda.\n",
    "X1_scaled = pd.DataFrame(X1_scaled, columns = X_train.columns)\n",
    "\n",
    "X1_scaled['SalePrice'] = predicted\n",
    "\n",
    "X1_scaled['Id'] = df_test['Id']\n",
    "\n",
    "X1_scaled.head()"
   ]
  },
  {
   "cell_type": "code",
   "execution_count": 33,
   "metadata": {},
   "outputs": [],
   "source": [
    "X1_scaled = X1_scaled.set_index('Id')\n",
    "\n",
    "X1_scaled = X1_scaled[['SalePrice']]"
   ]
  },
  {
   "cell_type": "code",
   "execution_count": 34,
   "metadata": {},
   "outputs": [],
   "source": [
    "# X1_scaled.to_csv('submission1_reg_brian_collins.csv')"
   ]
  },
  {
   "cell_type": "code",
   "execution_count": 35,
   "metadata": {},
   "outputs": [
    {
     "data": {
      "text/html": [
       "<div>\n",
       "<style scoped>\n",
       "    .dataframe tbody tr th:only-of-type {\n",
       "        vertical-align: middle;\n",
       "    }\n",
       "\n",
       "    .dataframe tbody tr th {\n",
       "        vertical-align: top;\n",
       "    }\n",
       "\n",
       "    .dataframe thead th {\n",
       "        text-align: right;\n",
       "    }\n",
       "</style>\n",
       "<table border=\"1\" class=\"dataframe\">\n",
       "  <thead>\n",
       "    <tr style=\"text-align: right;\">\n",
       "      <th></th>\n",
       "      <th>SalePrice</th>\n",
       "    </tr>\n",
       "    <tr>\n",
       "      <th>Id</th>\n",
       "      <th></th>\n",
       "    </tr>\n",
       "  </thead>\n",
       "  <tbody>\n",
       "    <tr>\n",
       "      <th>2658</th>\n",
       "      <td>181612.819318</td>\n",
       "    </tr>\n",
       "    <tr>\n",
       "      <th>2718</th>\n",
       "      <td>199190.685279</td>\n",
       "    </tr>\n",
       "    <tr>\n",
       "      <th>2414</th>\n",
       "      <td>182571.362478</td>\n",
       "    </tr>\n",
       "    <tr>\n",
       "      <th>1989</th>\n",
       "      <td>125917.917917</td>\n",
       "    </tr>\n",
       "    <tr>\n",
       "      <th>625</th>\n",
       "      <td>175745.130240</td>\n",
       "    </tr>\n",
       "  </tbody>\n",
       "</table>\n",
       "</div>"
      ],
      "text/plain": [
       "          SalePrice\n",
       "Id                 \n",
       "2658  181612.819318\n",
       "2718  199190.685279\n",
       "2414  182571.362478\n",
       "1989  125917.917917\n",
       "625   175745.130240"
      ]
     },
     "execution_count": 35,
     "metadata": {},
     "output_type": "execute_result"
    }
   ],
   "source": [
    "# Everything looks good!\n",
    "X1_scaled.head()"
   ]
  }
 ],
 "metadata": {
  "kernelspec": {
   "display_name": "Python [conda env:anaconda3]",
   "language": "python",
   "name": "conda-env-anaconda3-py"
  },
  "language_info": {
   "codemirror_mode": {
    "name": "ipython",
    "version": 3
   },
   "file_extension": ".py",
   "mimetype": "text/x-python",
   "name": "python",
   "nbconvert_exporter": "python",
   "pygments_lexer": "ipython3",
   "version": "3.6.4"
  }
 },
 "nbformat": 4,
 "nbformat_minor": 2
}
