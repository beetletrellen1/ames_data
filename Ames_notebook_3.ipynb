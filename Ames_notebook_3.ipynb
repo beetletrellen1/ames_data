{
 "cells": [
  {
   "cell_type": "markdown",
   "metadata": {},
   "source": [
    "### Modeling Notebook for Ames, Iowa Housing data. \n",
    "\n",
    "### Purpose of notebook is to best predict sale price for homes using multiple features.  \n",
    "\n",
    "### Question looking to be answered is, \"does using data from Ames Iowa, can we construct a model that will be flexible enough to guide home purchases based on specific housing characteristics?\""
   ]
  },
  {
   "cell_type": "code",
   "execution_count": 64,
   "metadata": {},
   "outputs": [],
   "source": [
    "import pandas as pd\n",
    "import numpy as np\n",
    "import seaborn as sns\n",
    "import matplotlib.pyplot as plt\n",
    "\n",
    "from sklearn.linear_model import LinearRegression, Ridge, RidgeCV, Lasso, LassoCV\n",
    "from sklearn.model_selection import train_test_split, KFold, cross_val_score\n",
    "from sklearn.preprocessing import PolynomialFeatures, StandardScaler"
   ]
  },
  {
   "cell_type": "code",
   "execution_count": 14,
   "metadata": {},
   "outputs": [
    {
     "data": {
      "text/plain": [
       "((2051, 80), (879, 79))"
      ]
     },
     "execution_count": 14,
     "metadata": {},
     "output_type": "execute_result"
    }
   ],
   "source": [
    "train_ames  = pd.read_csv('../train.csv', index_col=\"Id\")\n",
    "test_kaggle = pd.read_csv('../test.csv', index_col=\"Id\")\n",
    "\n",
    "train_ames.shape, test_kaggle.shape"
   ]
  },
  {
   "cell_type": "code",
   "execution_count": 15,
   "metadata": {},
   "outputs": [],
   "source": [
    "X = train_ames.drop('SalePrice', axis=1)\n",
    "\n",
    "y = train_ames['SalePrice']"
   ]
  },
  {
   "cell_type": "code",
   "execution_count": 16,
   "metadata": {},
   "outputs": [],
   "source": [
    "X_train, X_test, y_train, y_test = train_test_split(X, y, random_state=1)"
   ]
  },
  {
   "cell_type": "markdown",
   "metadata": {},
   "source": [
    "## Basic Cleaning of data"
   ]
  },
  {
   "cell_type": "code",
   "execution_count": 17,
   "metadata": {},
   "outputs": [
    {
     "data": {
      "text/plain": [
       "Index(['PID', 'MS SubClass', 'MS Zoning', 'Lot Frontage', 'Lot Area', 'Street',\n",
       "       'Alley', 'Lot Shape', 'Land Contour', 'Utilities', 'Lot Config',\n",
       "       'Land Slope', 'Neighborhood', 'Condition 1', 'Condition 2', 'Bldg Type',\n",
       "       'House Style', 'Overall Qual', 'Overall Cond', 'Year Built',\n",
       "       'Year Remod/Add', 'Roof Style', 'Roof Matl', 'Exterior 1st',\n",
       "       'Exterior 2nd', 'Mas Vnr Type', 'Mas Vnr Area', 'Exter Qual',\n",
       "       'Exter Cond', 'Foundation', 'Bsmt Qual', 'Bsmt Cond', 'Bsmt Exposure',\n",
       "       'BsmtFin Type 1', 'BsmtFin SF 1', 'BsmtFin Type 2', 'BsmtFin SF 2',\n",
       "       'Bsmt Unf SF', 'Total Bsmt SF', 'Heating', 'Heating QC', 'Central Air',\n",
       "       'Electrical', '1st Flr SF', '2nd Flr SF', 'Low Qual Fin SF',\n",
       "       'Gr Liv Area', 'Bsmt Full Bath', 'Bsmt Half Bath', 'Full Bath',\n",
       "       'Half Bath', 'Bedroom AbvGr', 'Kitchen AbvGr', 'Kitchen Qual',\n",
       "       'TotRms AbvGrd', 'Functional', 'Fireplaces', 'Fireplace Qu',\n",
       "       'Garage Type', 'Garage Yr Blt', 'Garage Finish', 'Garage Cars',\n",
       "       'Garage Area', 'Garage Qual', 'Garage Cond', 'Paved Drive',\n",
       "       'Wood Deck SF', 'Open Porch SF', 'Enclosed Porch', '3Ssn Porch',\n",
       "       'Screen Porch', 'Pool Area', 'Pool QC', 'Fence', 'Misc Feature',\n",
       "       'Misc Val', 'Mo Sold', 'Yr Sold', 'Sale Type', 'SalePrice'],\n",
       "      dtype='object')"
      ]
     },
     "execution_count": 17,
     "metadata": {},
     "output_type": "execute_result"
    }
   ],
   "source": [
    "train_ames.columns"
   ]
  },
  {
   "cell_type": "code",
   "execution_count": 18,
   "metadata": {},
   "outputs": [],
   "source": [
    "def drop_data(data):\n",
    "    noneed_features = data\n",
    "    dropped = data[['PID', 'Enclosed Porch', '3Ssn Porch',\n",
    "              'Screen Porch', 'Pool Area', \n",
    "              'Pool QC', 'Fence', 'Misc Feature',\n",
    "              'Misc Val', 'Mo Sold', 'Kitchen AbvGr',\n",
    "              'TotRms AbvGrd', 'Bedroom AbvGr', \n",
    "              'Low Qual Fin SF', 'Electrical',\n",
    "              'Heating QC', 'Bsmt Exposure',\n",
    "              'Bsmt Qual', 'Mas Vnr Area',\n",
    "              'Condition 2', 'Condition 1',\n",
    "              'Lot Config', 'Land Slope',\n",
    "              'Alley', 'Lot Shape', 'Land Contour', 'Fireplace Qu',\n",
    "              'Lot Frontage', 'Mas Vnr Type'\n",
    "]]\n",
    "    noneed_features = data.drop(dropped, axis=1)\n",
    "    return noneed_features\n",
    "\n",
    "X_train = drop_data(X_train)\n",
    "X_test = drop_data(X_test)\n",
    "test_kaggle = drop_data(test_kaggle)"
   ]
  },
  {
   "cell_type": "code",
   "execution_count": 19,
   "metadata": {},
   "outputs": [
    {
     "data": {
      "text/plain": [
       "((1538, 50), (513, 50), (879, 50))"
      ]
     },
     "execution_count": 19,
     "metadata": {},
     "output_type": "execute_result"
    }
   ],
   "source": [
    "X_train.shape, X_test.shape, test_kaggle.shape"
   ]
  },
  {
   "cell_type": "code",
   "execution_count": 20,
   "metadata": {},
   "outputs": [
    {
     "data": {
      "text/plain": [
       "MS SubClass        0\n",
       "MS Zoning          0\n",
       "Lot Area           0\n",
       "Street             0\n",
       "Utilities          0\n",
       "Neighborhood       0\n",
       "Bldg Type          0\n",
       "House Style        0\n",
       "Overall Qual       0\n",
       "Overall Cond       0\n",
       "Year Built         0\n",
       "Year Remod/Add     0\n",
       "Roof Style         0\n",
       "Roof Matl          0\n",
       "Exterior 1st       0\n",
       "Exterior 2nd       0\n",
       "Exter Qual         0\n",
       "Exter Cond         0\n",
       "Foundation         0\n",
       "Bsmt Cond         44\n",
       "BsmtFin Type 1    44\n",
       "BsmtFin SF 1       1\n",
       "BsmtFin Type 2    45\n",
       "BsmtFin SF 2       1\n",
       "Bsmt Unf SF        1\n",
       "Total Bsmt SF      1\n",
       "Heating            0\n",
       "Central Air        0\n",
       "1st Flr SF         0\n",
       "2nd Flr SF         0\n",
       "Gr Liv Area        0\n",
       "Bsmt Full Bath     2\n",
       "Bsmt Half Bath     2\n",
       "Full Bath          0\n",
       "Half Bath          0\n",
       "Kitchen Qual       0\n",
       "Functional         0\n",
       "Fireplaces         0\n",
       "Garage Type       80\n",
       "Garage Yr Blt     81\n",
       "Garage Finish     81\n",
       "Garage Cars        1\n",
       "Garage Area        1\n",
       "Garage Qual       81\n",
       "Garage Cond       81\n",
       "Paved Drive        0\n",
       "Wood Deck SF       0\n",
       "Open Porch SF      0\n",
       "Yr Sold            0\n",
       "Sale Type          0\n",
       "dtype: int64"
      ]
     },
     "execution_count": 20,
     "metadata": {},
     "output_type": "execute_result"
    }
   ],
   "source": [
    "X_train.isnull().sum()"
   ]
  },
  {
   "cell_type": "code",
   "execution_count": 30,
   "metadata": {
    "scrolled": true
   },
   "outputs": [],
   "source": [
    "def null_fill(data):\n",
    "    filled_data = data.copy()\n",
    "    fillna_dict = {'Garage Qual': 'No_garage', 'Garage Cond': 'No_garage', \n",
    "     'Garage Finish': 'No_garage','Garage Type': 'No_garage',\n",
    "     'Garage Yr Blt': 'No_garage', 'Garage Finish': 'No_garage',\n",
    "     'BsmtFin Type 1': 'No_bsmt', 'BsmtFin SF 1': 'No_bsmt', \n",
    "     'BsmtFin Type 2': 'No_bsmt', 'BsmtFin SF 2': 'No_bsmt',\n",
    "     'Bsmt Unf SF': 'No_bsmt', 'Bsmt Cond': 'No_bsmt'\n",
    "    }\n",
    "    filled_data = filled_data.fillna(fillna_dict)\n",
    "    filled_data = filled_data.fillna(0)\n",
    "    return filled_data"
   ]
  },
  {
   "cell_type": "code",
   "execution_count": 31,
   "metadata": {},
   "outputs": [],
   "source": [
    "X_train = null_fill(X_train)\n",
    "X_test = null_fill(X_test)\n",
    "test_kaggle = null_fill(test_kaggle)"
   ]
  },
  {
   "cell_type": "code",
   "execution_count": 32,
   "metadata": {},
   "outputs": [
    {
     "data": {
      "text/plain": [
       "((1538, 50), (513, 50), (879, 50))"
      ]
     },
     "execution_count": 32,
     "metadata": {},
     "output_type": "execute_result"
    }
   ],
   "source": [
    "X_train.shape, X_test.shape, test_kaggle.shape"
   ]
  },
  {
   "cell_type": "code",
   "execution_count": 34,
   "metadata": {},
   "outputs": [],
   "source": [
    "string_cols = X_train.select_dtypes(exclude=[np.number]).columns"
   ]
  },
  {
   "cell_type": "code",
   "execution_count": 35,
   "metadata": {},
   "outputs": [],
   "source": [
    "X_train = pd.get_dummies(X_train, columns=string_cols)\n",
    "X_test = pd.get_dummies(X_test, columns=string_cols)\n",
    "test_kaggle = pd.get_dummies(test_kaggle, columns=string_cols)"
   ]
  },
  {
   "cell_type": "code",
   "execution_count": 36,
   "metadata": {},
   "outputs": [
    {
     "data": {
      "text/plain": [
       "((1538, 1956), (513, 1036), (879, 1411))"
      ]
     },
     "execution_count": 36,
     "metadata": {},
     "output_type": "execute_result"
    }
   ],
   "source": [
    "X_train.shape, X_test.shape, test_kaggle.shape"
   ]
  },
  {
   "cell_type": "code",
   "execution_count": 37,
   "metadata": {},
   "outputs": [],
   "source": [
    "model_cols = X_train.columns\n",
    "\n",
    "def add_model_cols(data, model_cols):\n",
    "    new_data = data.copy()\n",
    "    for missing_col in [col for col in model_cols if col not in data.columns]:\n",
    "        new_data[missing_col] = 0\n",
    "    return new_data\n",
    "\n",
    "X_test = add_model_cols(X_test, model_cols=model_cols)\n",
    "test_kaggle = add_model_cols(test_kaggle, model_cols=model_cols)"
   ]
  },
  {
   "cell_type": "code",
   "execution_count": 39,
   "metadata": {},
   "outputs": [],
   "source": [
    "test_kaggle = test_kaggle[model_cols]\n",
    "X_test      = X_test[model_cols]"
   ]
  },
  {
   "cell_type": "code",
   "execution_count": 40,
   "metadata": {},
   "outputs": [
    {
     "data": {
      "text/plain": [
       "((1538, 1956), (513, 1956), (879, 1956))"
      ]
     },
     "execution_count": 40,
     "metadata": {},
     "output_type": "execute_result"
    }
   ],
   "source": [
    "X_train.shape, X_test.shape, test_kaggle.shape"
   ]
  },
  {
   "cell_type": "code",
   "execution_count": 41,
   "metadata": {
    "scrolled": true
   },
   "outputs": [],
   "source": [
    "ss = StandardScaler()\n",
    "X_train = ss.fit_transform(X_train)\n",
    "X_test  = ss.transform(X_test)\n",
    "test_kaggle = ss.transform(test_kaggle)"
   ]
  },
  {
   "cell_type": "code",
   "execution_count": 42,
   "metadata": {},
   "outputs": [],
   "source": [
    "from sklearn.feature_selection import VarianceThreshold, SelectPercentile, f_regression"
   ]
  },
  {
   "cell_type": "code",
   "execution_count": 44,
   "metadata": {},
   "outputs": [
    {
     "name": "stdout",
     "output_type": "stream",
     "text": [
      "102\n"
     ]
    }
   ],
   "source": [
    "feature_variances = np.apply_along_axis(np.var, axis=0, arr= X_train)\n",
    "\n",
    "perc_thresh = np.percentile(feature_variances, 90)\n",
    "perc_thresh\n",
    "\n",
    "vt = VarianceThreshold(threshold=perc_thresh)\n",
    "X_train = vt.fit_transform(X_train)\n",
    "X_test  = vt.transform(X_test)\n",
    "test_kaggle   = vt.transform(test_kaggle)\n",
    "print(X_train.shape[1])"
   ]
  },
  {
   "cell_type": "code",
   "execution_count": 49,
   "metadata": {},
   "outputs": [
    {
     "data": {
      "text/plain": [
       "(5552420437.281146, 74514.5652693562)"
      ]
     },
     "execution_count": 49,
     "metadata": {},
     "output_type": "execute_result"
    }
   ],
   "source": [
    "# r_alphas = np.logspace(0, 5, 200) # generates 200 points between 10^0, 10^5\n",
    "# ridge_model = RidgeCV(alphas=r_alphas, store_cv_values=True)\n",
    "# ridge_model = ridge_model.fit(X_train, y_train)\n",
    "\n",
    "# ridge_optimal_alpha = ridge_model.alpha_\n",
    "\n",
    "# alpha = ridge_optimal_alpha\n",
    "# ridge_model = Ridge(alpha=alpha)  # This replaces LinearRegression\n",
    "# ridge_cv_mean_mse = -cross_val_score(ridge_model,\n",
    "#                                   X_train,\n",
    "#                                   y_train,\n",
    "#                                   cv=5,\n",
    "#                                   scoring='neg_mean_squared_error').mean()\n",
    "\n",
    "# ridge_cv_mean_mse, ridge_cv_mean_mse**(1/2)"
   ]
  },
  {
   "cell_type": "code",
   "execution_count": 65,
   "metadata": {},
   "outputs": [],
   "source": [
    "alphas = np.logspace(2,4,20)\n",
    "las = LassoCV(alphas=alphas, n_jobs=-1)\n",
    "las.fit(X_train, y_train)\n",
    "cv_scores = cross_val_score(las, X_train, y_train, cv=3).mean()\n",
    "best_alpha = las.alpha_"
   ]
  },
  {
   "cell_type": "code",
   "execution_count": 51,
   "metadata": {},
   "outputs": [
    {
     "data": {
      "text/plain": [
       "(879,)"
      ]
     },
     "execution_count": 51,
     "metadata": {},
     "output_type": "execute_result"
    }
   ],
   "source": [
    "y_pred_ridge = ridge_model.fit(X_train, y_train).predict(test_kaggle)\n",
    "\n",
    "y_pred_ridge.shape"
   ]
  },
  {
   "cell_type": "code",
   "execution_count": null,
   "metadata": {},
   "outputs": [],
   "source": [
    "y_pred_lasso = las.fit(X_train, y_train).predict(test_kaggle)\n",
    "\n",
    "y_pred_lasso.shape"
   ]
  },
  {
   "cell_type": "code",
   "execution_count": 55,
   "metadata": {},
   "outputs": [],
   "source": [
    "submit = pd.read_csv('../test.csv', index_col=\"Id\")"
   ]
  },
  {
   "cell_type": "code",
   "execution_count": 56,
   "metadata": {},
   "outputs": [],
   "source": [
    "submit['SalePrice'] = y_pred_ridge\n",
    "\n",
    "submit = submit[['SalePrice']]\n",
    "\n",
    "submit.to_csv('Submission13.csv')"
   ]
  }
 ],
 "metadata": {
  "kernelspec": {
   "display_name": "Python [conda env:anaconda3]",
   "language": "python",
   "name": "conda-env-anaconda3-py"
  },
  "language_info": {
   "codemirror_mode": {
    "name": "ipython",
    "version": 3
   },
   "file_extension": ".py",
   "mimetype": "text/x-python",
   "name": "python",
   "nbconvert_exporter": "python",
   "pygments_lexer": "ipython3",
   "version": "3.6.4"
  }
 },
 "nbformat": 4,
 "nbformat_minor": 2
}
